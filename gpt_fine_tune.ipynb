{
  "cells": [
    {
      "cell_type": "markdown",
      "metadata": {
        "id": "CmNy8G36Jtg7"
      },
      "source": [
        "# Install packages"
      ]
    },
    {
      "cell_type": "code",
      "execution_count": 1,
      "metadata": {
        "colab": {
          "base_uri": "https://localhost:8080/"
        },
        "id": "S2uWH58qhjaZ",
        "outputId": "fd9e2b63-5316-400c-e30b-5851aff362b8"
      },
      "outputs": [
        {
          "output_type": "stream",
          "name": "stdout",
          "text": [
            "Fri Apr 21 21:39:11 2023       \n",
            "+-----------------------------------------------------------------------------+\n",
            "| NVIDIA-SMI 525.85.12    Driver Version: 525.85.12    CUDA Version: 12.0     |\n",
            "|-------------------------------+----------------------+----------------------+\n",
            "| GPU  Name        Persistence-M| Bus-Id        Disp.A | Volatile Uncorr. ECC |\n",
            "| Fan  Temp  Perf  Pwr:Usage/Cap|         Memory-Usage | GPU-Util  Compute M. |\n",
            "|                               |                      |               MIG M. |\n",
            "|===============================+======================+======================|\n",
            "|   0  Tesla T4            Off  | 00000000:00:04.0 Off |                    0 |\n",
            "| N/A   40C    P8     9W /  70W |      0MiB / 15360MiB |      0%      Default |\n",
            "|                               |                      |                  N/A |\n",
            "+-------------------------------+----------------------+----------------------+\n",
            "                                                                               \n",
            "+-----------------------------------------------------------------------------+\n",
            "| Processes:                                                                  |\n",
            "|  GPU   GI   CI        PID   Type   Process name                  GPU Memory |\n",
            "|        ID   ID                                                   Usage      |\n",
            "|=============================================================================|\n",
            "|  No running processes found                                                 |\n",
            "+-----------------------------------------------------------------------------+\n"
          ]
        }
      ],
      "source": [
        "!nvidia-smi"
      ]
    },
    {
      "cell_type": "code",
      "execution_count": 2,
      "metadata": {
        "colab": {
          "base_uri": "https://localhost:8080/"
        },
        "id": "pVtk1uRXCE0W",
        "outputId": "0fa7d3a5-c9a3-4675-8378-12e09cd1fbc1"
      },
      "outputs": [
        {
          "output_type": "stream",
          "name": "stdout",
          "text": [
            "Looking in indexes: https://pypi.org/simple, https://us-python.pkg.dev/colab-wheels/public/simple/\n",
            "Collecting transformers\n",
            "  Downloading transformers-4.28.1-py3-none-any.whl (7.0 MB)\n",
            "\u001b[2K     \u001b[90m━━━━━━━━━━━━━━━━━━━━━━━━━━━━━━━━━━━━━━━━\u001b[0m \u001b[32m7.0/7.0 MB\u001b[0m \u001b[31m51.0 MB/s\u001b[0m eta \u001b[36m0:00:00\u001b[0m\n",
            "\u001b[?25hRequirement already satisfied: numpy>=1.17 in /usr/local/lib/python3.9/dist-packages (from transformers) (1.22.4)\n",
            "Requirement already satisfied: requests in /usr/local/lib/python3.9/dist-packages (from transformers) (2.27.1)\n",
            "Requirement already satisfied: tqdm>=4.27 in /usr/local/lib/python3.9/dist-packages (from transformers) (4.65.0)\n",
            "Requirement already satisfied: pyyaml>=5.1 in /usr/local/lib/python3.9/dist-packages (from transformers) (6.0)\n",
            "Collecting tokenizers!=0.11.3,<0.14,>=0.11.1\n",
            "  Downloading tokenizers-0.13.3-cp39-cp39-manylinux_2_17_x86_64.manylinux2014_x86_64.whl (7.8 MB)\n",
            "\u001b[2K     \u001b[90m━━━━━━━━━━━━━━━━━━━━━━━━━━━━━━━━━━━━━━━━\u001b[0m \u001b[32m7.8/7.8 MB\u001b[0m \u001b[31m106.7 MB/s\u001b[0m eta \u001b[36m0:00:00\u001b[0m\n",
            "\u001b[?25hRequirement already satisfied: filelock in /usr/local/lib/python3.9/dist-packages (from transformers) (3.11.0)\n",
            "Requirement already satisfied: packaging>=20.0 in /usr/local/lib/python3.9/dist-packages (from transformers) (23.1)\n",
            "Requirement already satisfied: regex!=2019.12.17 in /usr/local/lib/python3.9/dist-packages (from transformers) (2022.10.31)\n",
            "Collecting huggingface-hub<1.0,>=0.11.0\n",
            "  Downloading huggingface_hub-0.13.4-py3-none-any.whl (200 kB)\n",
            "\u001b[2K     \u001b[90m━━━━━━━━━━━━━━━━━━━━━━━━━━━━━━━━━━━━━━\u001b[0m \u001b[32m200.1/200.1 kB\u001b[0m \u001b[31m27.0 MB/s\u001b[0m eta \u001b[36m0:00:00\u001b[0m\n",
            "\u001b[?25hRequirement already satisfied: typing-extensions>=3.7.4.3 in /usr/local/lib/python3.9/dist-packages (from huggingface-hub<1.0,>=0.11.0->transformers) (4.5.0)\n",
            "Requirement already satisfied: charset-normalizer~=2.0.0 in /usr/local/lib/python3.9/dist-packages (from requests->transformers) (2.0.12)\n",
            "Requirement already satisfied: idna<4,>=2.5 in /usr/local/lib/python3.9/dist-packages (from requests->transformers) (3.4)\n",
            "Requirement already satisfied: certifi>=2017.4.17 in /usr/local/lib/python3.9/dist-packages (from requests->transformers) (2022.12.7)\n",
            "Requirement already satisfied: urllib3<1.27,>=1.21.1 in /usr/local/lib/python3.9/dist-packages (from requests->transformers) (1.26.15)\n",
            "Installing collected packages: tokenizers, huggingface-hub, transformers\n",
            "Successfully installed huggingface-hub-0.13.4 tokenizers-0.13.3 transformers-4.28.1\n",
            "Looking in indexes: https://pypi.org/simple, https://us-python.pkg.dev/colab-wheels/public/simple/\n",
            "Requirement already satisfied: torch in /usr/local/lib/python3.9/dist-packages (2.0.0+cu118)\n",
            "Requirement already satisfied: filelock in /usr/local/lib/python3.9/dist-packages (from torch) (3.11.0)\n",
            "Requirement already satisfied: triton==2.0.0 in /usr/local/lib/python3.9/dist-packages (from torch) (2.0.0)\n",
            "Requirement already satisfied: jinja2 in /usr/local/lib/python3.9/dist-packages (from torch) (3.1.2)\n",
            "Requirement already satisfied: networkx in /usr/local/lib/python3.9/dist-packages (from torch) (3.1)\n",
            "Requirement already satisfied: typing-extensions in /usr/local/lib/python3.9/dist-packages (from torch) (4.5.0)\n",
            "Requirement already satisfied: sympy in /usr/local/lib/python3.9/dist-packages (from torch) (1.11.1)\n",
            "Requirement already satisfied: cmake in /usr/local/lib/python3.9/dist-packages (from triton==2.0.0->torch) (3.25.2)\n",
            "Requirement already satisfied: lit in /usr/local/lib/python3.9/dist-packages (from triton==2.0.0->torch) (16.0.1)\n",
            "Requirement already satisfied: MarkupSafe>=2.0 in /usr/local/lib/python3.9/dist-packages (from jinja2->torch) (2.1.2)\n",
            "Requirement already satisfied: mpmath>=0.19 in /usr/local/lib/python3.9/dist-packages (from sympy->torch) (1.3.0)\n"
          ]
        }
      ],
      "source": [
        "! pip install transformers\n",
        "! pip install torch"
      ]
    },
    {
      "cell_type": "markdown",
      "metadata": {
        "id": "6m5X1aLnJxkr"
      },
      "source": [
        "# import all packages"
      ]
    },
    {
      "cell_type": "code",
      "execution_count": 3,
      "metadata": {
        "id": "Cxt4s4tdB0Y5"
      },
      "outputs": [],
      "source": [
        "from transformers import BertTokenizer, GPT2LMHeadModel, TextGenerationPipeline,GPT2Tokenizer\n",
        "from transformers import TextDataset, DataCollatorForLanguageModeling\n",
        "from transformers import Trainer, TrainingArguments\n",
        "\n",
        "import re\n",
        "import pandas as pd\n",
        "import datetime\n",
        "import torch\n",
        "import os"
      ]
    },
    {
      "cell_type": "markdown",
      "metadata": {
        "id": "KXcQHjL5KC97"
      },
      "source": [
        "## Define data cleaning function to remove symbols"
      ]
    },
    {
      "cell_type": "code",
      "execution_count": 4,
      "metadata": {
        "id": "tSDE9olKCVKs"
      },
      "outputs": [],
      "source": [
        "def cleaning(s):\n",
        "    s = str(s)\n",
        "    s = re.sub('\\s\\W',' ',s)\n",
        "    s = re.sub('\\W,\\s',' ',s)\n",
        "    s = re.sub(\"\\d+\", \"\", s)\n",
        "    s = re.sub('\\s+',' ',s)\n",
        "    s = re.sub('[!@#$_]', '', s)\n",
        "    s = s.replace(\"co\",\"\")\n",
        "    s = s.replace(\"https\",\"\")\n",
        "    s = s.replace(\"[\\w*\",\" \")\n",
        "    return s"
      ]
    },
    {
      "cell_type": "markdown",
      "metadata": {
        "id": "ij3AWmxuKKWa"
      },
      "source": [
        "## Converting CVS file to TXT file"
      ]
    },
    {
      "cell_type": "code",
      "execution_count": null,
      "metadata": {
        "id": "D-FPOcBhCYI9"
      },
      "outputs": [],
      "source": [
        "def cvs2txt(origin_filename,saving_file):\n",
        "\n",
        "    df = pd.read_csv(origin_filename, encoding=\"ISO-8859-1\") \n",
        "    df = df.dropna()\n",
        "    text_data = open(saving_file, 'w')\n",
        "    for idx, item in df.iterrows():\n",
        "        article = cleaning(item[\"Article\"])\n",
        "        text_data.write(article)\n",
        "    text_data.close()\n",
        "    print('txt data is saved!')"
      ]
    },
    {
      "cell_type": "code",
      "execution_count": 5,
      "metadata": {
        "id": "evrHMqQICbN2"
      },
      "outputs": [],
      "source": [
        "def load_dataset(file_path, tokenizer, block_size = 128):\n",
        "    dataset = TextDataset(\n",
        "        tokenizer = tokenizer,\n",
        "        file_path = file_path,\n",
        "        block_size = block_size\n",
        "    )\n",
        "    return dataset"
      ]
    },
    {
      "cell_type": "code",
      "execution_count": 6,
      "metadata": {
        "id": "LlVzhWXvCelE"
      },
      "outputs": [],
      "source": [
        "def load_data_collator(tokenizer, mlm = False):\n",
        "    data_collator = DataCollatorForLanguageModeling(\n",
        "        tokenizer=tokenizer, \n",
        "        mlm=mlm,\n",
        "    )\n",
        "    return data_collator"
      ]
    },
    {
      "cell_type": "markdown",
      "metadata": {
        "id": "MOgsmab6KPka"
      },
      "source": [
        "## Define Training function"
      ]
    },
    {
      "cell_type": "code",
      "execution_count": 7,
      "metadata": {
        "id": "yYuwhh1lCh_c"
      },
      "outputs": [],
      "source": [
        "def train(train_file_path,model_name,output_dir,overwrite_output_dir,per_device_train_batch_size,num_train_epochs,save_steps,date):\n",
        "    device = 'cuda' if torch.cuda.is_available() else 'cpu'\n",
        "    print('>>>>>> Using %s to train your model <<<<<<'%device)\n",
        "    tokenizer = BertTokenizer.from_pretrained(model_name)\n",
        "    train_dataset = load_dataset(train_file_path, tokenizer)\n",
        "    data_collator = load_data_collator(tokenizer)\n",
        "    # tokenizer.save_pretrained(output_dir)\n",
        "    model = GPT2LMHeadModel.from_pretrained(model_name)\n",
        "    # model.save_pretrained(output_dir)\n",
        "    training_args = TrainingArguments(\n",
        "        output_dir=output_dir,\n",
        "        overwrite_output_dir=overwrite_output_dir,\n",
        "        per_device_train_batch_size=per_device_train_batch_size,\n",
        "        num_train_epochs=num_train_epochs,\n",
        "        optim='adamw_torch',\n",
        "        )\n",
        "    \n",
        "    trainer = Trainer(\n",
        "        model=model,\n",
        "        args=training_args,\n",
        "        data_collator=data_collator,\n",
        "        train_dataset=train_dataset,\n",
        "        )\n",
        "    model_path = output_dir+'_'+str(save_steps)+'_'+str(num_train_epochs)+'_'+str(date)\n",
        "    trainer.train()\n",
        "    trainer.save_model(model_path)\n",
        "    print('>>>>> New model is saved! <<<<<')"
      ]
    },
    {
      "cell_type": "code",
      "execution_count": null,
      "metadata": {
        "colab": {
          "base_uri": "https://localhost:8080/"
        },
        "id": "pXihKgZJClhU",
        "outputId": "e55c34e7-d714-4ffa-c3c4-c0bd78da2259"
      },
      "outputs": [
        {
          "name": "stdout",
          "output_type": "stream",
          "text": [
            "txt data is saved!\n"
          ]
        }
      ],
      "source": [
        "import os\n",
        "origin_filename = \"Articles.csv\"\n",
        "saving_file = \"Articles.txt\"\n",
        "cvs2txt(origin_filename,saving_file)\n",
        "\n",
        "\n",
        "train_file_path = \"Articles.txt\"\n"
      ]
    },
    {
      "cell_type": "code",
      "source": [
        "today = datetime.date.today()"
      ],
      "metadata": {
        "id": "qJUlq2o9L9oN"
      },
      "execution_count": 8,
      "outputs": []
    },
    {
      "cell_type": "code",
      "source": [
        "file_path = 'result_content.txt'"
      ],
      "metadata": {
        "id": "SWAIxBGML-yK"
      },
      "execution_count": 9,
      "outputs": []
    },
    {
      "cell_type": "code",
      "source": [
        "import numpy as np"
      ],
      "metadata": {
        "id": "2QyvFib7MO2B"
      },
      "execution_count": 10,
      "outputs": []
    },
    {
      "cell_type": "code",
      "source": [
        "data = np.genfromtxt(file_path,delimiter='<END>',dtype=str)\n",
        "print(data[0])"
      ],
      "metadata": {
        "colab": {
          "base_uri": "https://localhost:8080/"
        },
        "id": "FZpzsOhPMnab",
        "outputId": "bc3757bd-62d1-44ac-81b8-080c8ad64837"
      },
      "execution_count": 12,
      "outputs": [
        {
          "output_type": "stream",
          "name": "stdout",
          "text": [
            "['范廷颂是什么时候被任为主教的？'\n",
            " \"范廷颂是什么时候被任为主教的？答：1963年。['范廷颂枢机（，），圣名保禄·若瑟（），是越南罗马天主教枢机。1963年被任为主教；1990年被擢升为天主教河内总教区宗座署理；1994年被擢升为总主教，同年年底被擢升为枢机；2009年2月离世。范廷颂于1919年6月15日在越南宁平省天主教发艳教区出生；童年时接受良好教育后，被一位越南神父带到河内继续其学业。范廷颂于1940年在河内大修道院完成神学学业。范廷颂于1949年6月6日在河内的主教座堂晋铎；及后被派到圣女小德兰孤儿院服务。1950年代，范廷颂在河内堂区创建移民接待中心以收容到河内避战的难民。1954年，法越战争结束，越南民主共和国建都河内，当时很多天主教神职人员逃至越南的南方，但范廷颂仍然留在河内。翌年管理圣若望小修院；惟在1960年因捍卫修院的自由、自治及拒绝政府在修院设政治课的要求而被捕。1963年4月5日，教宗任命范廷颂为天主教北宁教区主教，同年8月15日就任；其牧铭为「我信天主的爱」。由于范廷颂被越南政府软禁差不多30年，因此他无法到所属堂区进行牧灵工作而专注研读等工作。范廷颂除了面对战争、贫困、被当局迫害天主教会等问题外，也秘密恢复修院、创建女修会团体等。1990年，教宗若望保禄二世在同年6月18日擢升范廷颂为天主教河内总教区宗座署理以填补该教区总主教的空缺。1994年3月23日，范廷颂被教宗若望保禄二世擢升为天主教河内总教区总主教并兼天主教谅山教区宗座署理；同年11月26日，若望保禄二世擢升范廷颂为枢机。范廷颂在1995年至2001年期间出任天主教越南主教团主席。2003年4月26日，教宗若望保禄二世任命天主教谅山教区兼天主教高平教区吴光杰主教为天主教河内总教区署理主教；及至2005年2月19日，范廷颂因获批辞去总主教职务而荣休；吴光杰同日真除天主教河内总教区总主教职务。范廷颂于2009年2月22日清晨在河内离世，享年89岁；其葬礼于同月26日上午在天主教河内总教区总主教座堂举行。']\"]\n"
          ]
        }
      ]
    },
    {
      "cell_type": "code",
      "source": [
        "qa_data = []"
      ],
      "metadata": {
        "id": "IepXbiW3PR9t"
      },
      "execution_count": 13,
      "outputs": []
    },
    {
      "cell_type": "code",
      "source": [
        "for i in range(len(data)):\n",
        "  qa_data.append(data[i][1])"
      ],
      "metadata": {
        "id": "u9vZ_6RIPU-b"
      },
      "execution_count": 14,
      "outputs": []
    },
    {
      "cell_type": "code",
      "source": [
        "train_file_path = 'Chinese_QA_corpus.txt'"
      ],
      "metadata": {
        "id": "HIw9xlk3PLd1"
      },
      "execution_count": 15,
      "outputs": []
    },
    {
      "cell_type": "code",
      "source": [
        "np.savetxt(train_file_path,qa_data,fmt='%s')"
      ],
      "metadata": {
        "id": "IG3nzk5mPAjZ"
      },
      "execution_count": 16,
      "outputs": []
    },
    {
      "cell_type": "code",
      "execution_count": 18,
      "metadata": {
        "id": "rCSTZvR6CzHc"
      },
      "outputs": [],
      "source": [
        "os.environ[\"WANDB_DISABLED\"] = \"true\"\n",
        "model_name = 'uer/gpt2-chinese-cluecorpussmall'\n",
        "output_dir = 'gpt2-fine-tune/'\n",
        "overwrite_output_dir = False\n",
        "per_device_train_batch_size = 8\n",
        "num_train_epochs = 10\n",
        "save_steps = 1000"
      ]
    },
    {
      "cell_type": "code",
      "execution_count": 19,
      "metadata": {
        "id": "Bx9cU7doDH3l"
      },
      "outputs": [],
      "source": [
        "path = os.getcwd()\n",
        "new_output_dir = output_dir+str(today)\n",
        "path = os.path.join(path,new_output_dir)\n",
        "# print(f'path:{path}')\n",
        "isExist = os.path.exists(path)"
      ]
    },
    {
      "cell_type": "code",
      "execution_count": 20,
      "metadata": {
        "colab": {
          "base_uri": "https://localhost:8080/"
        },
        "id": "DAY6WhfcDQts",
        "outputId": "a0ebe13e-3e54-4268-d5d6-740c65e33da8"
      },
      "outputs": [
        {
          "output_type": "stream",
          "name": "stdout",
          "text": [
            ">>>>>> Model Folder is created <<<<<<\n"
          ]
        }
      ],
      "source": [
        "if not isExist:\n",
        "    os.makedirs(path)\n",
        "    print('>>>>>> Model Folder is created <<<<<<')"
      ]
    },
    {
      "cell_type": "markdown",
      "metadata": {
        "id": "TOdXvVaAKUkj"
      },
      "source": [
        "# Model training"
      ]
    },
    {
      "cell_type": "code",
      "execution_count": 21,
      "metadata": {
        "colab": {
          "base_uri": "https://localhost:8080/",
          "height": 1000,
          "referenced_widgets": [
            "2b44d5b0983d4a94ba1cc4edc30990af",
            "4a1e972681e2473f95553dc77e80be69",
            "e60cd92a9e5b42ac81688b86b64b24e2",
            "5a995b9efc7c43a3863f3fc1c353c08c",
            "c5d4034bc5304958891f3aa767ef06cd",
            "4400a495811b415c9dd889a55c35c671",
            "67403f8bfe394c3aaa53c4295e8353b8",
            "73265611a11a413096a91b6509087f6b",
            "7f1d1093b88a476a92ae632ba8238858",
            "fe5612000147417e95767f71e67b90c1",
            "8591f48c95a649779057445331ebd54c",
            "532cb039e98c481ba23eac6256f936b6",
            "10ca2afb466c431f9dcf488465b458e2",
            "a4b28dedb640496bb4e6c03b50a6e60b",
            "34c0fb57990042bcbe71411aeb47068d",
            "97e8deb87872433b8b64885ebf708188",
            "7c26f8e11cd444bb8f300a7116b0fb21",
            "62e075af4ef24df9aa978633421ef6f7",
            "6e24358bbeb240979d925021e3793765",
            "8e4314ce81664dd8bae1f81dff47eea7",
            "1ed8dfc845b24e259f3bb0f4750fbae0",
            "1556a40a6c604bbc95dba928605c50c6",
            "1d15e9e1b93b4b63abb34e8533964454",
            "62dd90e1f78048cc8ab356e2b9ebe5b6",
            "6374efb885d947bf99fc6b96ea7523f9",
            "3252b82f0b0a4ee8bcdf4983077e69c0",
            "36a5355d4ced499ca886b73a906d545c",
            "c4056e62f8114918b527788ba2420122",
            "c20cd75558a04fba8ca5aa4a533c6577",
            "198ebd471b194db992613abad4abddab",
            "30671025776841a3858a3eb193e8384b",
            "2ea3cbccc11b41da8664772fce353607",
            "075beb35df4e4b64a2249f7cb99fa95e",
            "70a3253a3afd49d1b42e6682b2afd1c4",
            "694fbebae7a74d1198d8ca28428042b2",
            "98c6099c39314926836b7551978e2873",
            "fd641acc8f5f49ba9641fe8dda10d949",
            "fcc5bcb696fb4054b77ffe78c047e0ab",
            "54786d1713cf4b5d8834b0ac75ffe117",
            "0473501737e04587bc58588be2555c33",
            "4aaca0cc13d7403f98898339e2728632",
            "62c6b96941904122b10607e03b562419",
            "03211623247c41ad94e989f30a157320",
            "62efee9f18d545e8b9b33665140c2287",
            "7585393416284388839045f9ba00364e",
            "7d91394f4db4404d98b939a49d224c9f",
            "0b37d049c9394706a7b500ae57b1c5fa",
            "33b21ea39c4447a4b584c40510ff9eb7",
            "20c830fe2c5041718628393e4afdf9fd",
            "0821ed2060dc490498c53831ae8d028e",
            "c478c2ce1cac49b08fde5c3b380a6446",
            "d006f7b4a76441f38104757175009a99",
            "c0bfc260c2e9471a90f237a9ecbaf474",
            "1e2bbb43afa646898056c1d17e54fe45",
            "b0cdf7703e7547f9abce844a36679ff7"
          ]
        },
        "id": "fro1IFBMC5Kk",
        "outputId": "30fd5a32-59e1-4db5-f002-47321e0099b6"
      },
      "outputs": [
        {
          "output_type": "stream",
          "name": "stdout",
          "text": [
            ">>>>>> Using cuda to train your model <<<<<<\n"
          ]
        },
        {
          "output_type": "display_data",
          "data": {
            "text/plain": [
              "Downloading (…)solve/main/vocab.txt:   0%|          | 0.00/110k [00:00<?, ?B/s]"
            ],
            "application/vnd.jupyter.widget-view+json": {
              "version_major": 2,
              "version_minor": 0,
              "model_id": "2b44d5b0983d4a94ba1cc4edc30990af"
            }
          },
          "metadata": {}
        },
        {
          "output_type": "display_data",
          "data": {
            "text/plain": [
              "Downloading (…)cial_tokens_map.json:   0%|          | 0.00/112 [00:00<?, ?B/s]"
            ],
            "application/vnd.jupyter.widget-view+json": {
              "version_major": 2,
              "version_minor": 0,
              "model_id": "532cb039e98c481ba23eac6256f936b6"
            }
          },
          "metadata": {}
        },
        {
          "output_type": "display_data",
          "data": {
            "text/plain": [
              "Downloading (…)okenizer_config.json:   0%|          | 0.00/217 [00:00<?, ?B/s]"
            ],
            "application/vnd.jupyter.widget-view+json": {
              "version_major": 2,
              "version_minor": 0,
              "model_id": "1d15e9e1b93b4b63abb34e8533964454"
            }
          },
          "metadata": {}
        },
        {
          "output_type": "display_data",
          "data": {
            "text/plain": [
              "Downloading (…)lve/main/config.json:   0%|          | 0.00/577 [00:00<?, ?B/s]"
            ],
            "application/vnd.jupyter.widget-view+json": {
              "version_major": 2,
              "version_minor": 0,
              "model_id": "70a3253a3afd49d1b42e6682b2afd1c4"
            }
          },
          "metadata": {}
        },
        {
          "output_type": "stream",
          "name": "stderr",
          "text": [
            "/usr/local/lib/python3.9/dist-packages/transformers/data/datasets/language_modeling.py:53: FutureWarning: This dataset will be removed from the library soon, preprocessing should be handled with the 🤗 Datasets library. You can have a look at this example script for pointers: https://github.com/huggingface/transformers/blob/main/examples/pytorch/language-modeling/run_mlm.py\n",
            "  warnings.warn(\n"
          ]
        },
        {
          "output_type": "display_data",
          "data": {
            "text/plain": [
              "Downloading pytorch_model.bin:   0%|          | 0.00/421M [00:00<?, ?B/s]"
            ],
            "application/vnd.jupyter.widget-view+json": {
              "version_major": 2,
              "version_minor": 0,
              "model_id": "7585393416284388839045f9ba00364e"
            }
          },
          "metadata": {}
        },
        {
          "output_type": "stream",
          "name": "stderr",
          "text": [
            "Using the `WANDB_DISABLED` environment variable is deprecated and will be removed in v5. Use the --report_to flag to control the integrations used for logging result (for instance --report_to none).\n"
          ]
        },
        {
          "output_type": "display_data",
          "data": {
            "text/plain": [
              "<IPython.core.display.HTML object>"
            ],
            "text/html": [
              "\n",
              "    <div>\n",
              "      \n",
              "      <progress value='50580' max='50580' style='width:300px; height:20px; vertical-align: middle;'></progress>\n",
              "      [50580/50580 3:50:24, Epoch 10/10]\n",
              "    </div>\n",
              "    <table border=\"1\" class=\"dataframe\">\n",
              "  <thead>\n",
              " <tr style=\"text-align: left;\">\n",
              "      <th>Step</th>\n",
              "      <th>Training Loss</th>\n",
              "    </tr>\n",
              "  </thead>\n",
              "  <tbody>\n",
              "    <tr>\n",
              "      <td>500</td>\n",
              "      <td>2.924700</td>\n",
              "    </tr>\n",
              "    <tr>\n",
              "      <td>1000</td>\n",
              "      <td>2.790000</td>\n",
              "    </tr>\n",
              "    <tr>\n",
              "      <td>1500</td>\n",
              "      <td>2.708800</td>\n",
              "    </tr>\n",
              "    <tr>\n",
              "      <td>2000</td>\n",
              "      <td>2.634800</td>\n",
              "    </tr>\n",
              "    <tr>\n",
              "      <td>2500</td>\n",
              "      <td>2.590100</td>\n",
              "    </tr>\n",
              "    <tr>\n",
              "      <td>3000</td>\n",
              "      <td>2.522500</td>\n",
              "    </tr>\n",
              "    <tr>\n",
              "      <td>3500</td>\n",
              "      <td>2.475000</td>\n",
              "    </tr>\n",
              "    <tr>\n",
              "      <td>4000</td>\n",
              "      <td>2.428100</td>\n",
              "    </tr>\n",
              "    <tr>\n",
              "      <td>4500</td>\n",
              "      <td>2.377500</td>\n",
              "    </tr>\n",
              "    <tr>\n",
              "      <td>5000</td>\n",
              "      <td>2.349000</td>\n",
              "    </tr>\n",
              "    <tr>\n",
              "      <td>5500</td>\n",
              "      <td>2.146700</td>\n",
              "    </tr>\n",
              "    <tr>\n",
              "      <td>6000</td>\n",
              "      <td>2.087700</td>\n",
              "    </tr>\n",
              "    <tr>\n",
              "      <td>6500</td>\n",
              "      <td>2.086100</td>\n",
              "    </tr>\n",
              "    <tr>\n",
              "      <td>7000</td>\n",
              "      <td>2.040800</td>\n",
              "    </tr>\n",
              "    <tr>\n",
              "      <td>7500</td>\n",
              "      <td>2.004000</td>\n",
              "    </tr>\n",
              "    <tr>\n",
              "      <td>8000</td>\n",
              "      <td>1.955200</td>\n",
              "    </tr>\n",
              "    <tr>\n",
              "      <td>8500</td>\n",
              "      <td>1.937800</td>\n",
              "    </tr>\n",
              "    <tr>\n",
              "      <td>9000</td>\n",
              "      <td>1.907900</td>\n",
              "    </tr>\n",
              "    <tr>\n",
              "      <td>9500</td>\n",
              "      <td>1.882900</td>\n",
              "    </tr>\n",
              "    <tr>\n",
              "      <td>10000</td>\n",
              "      <td>1.851900</td>\n",
              "    </tr>\n",
              "    <tr>\n",
              "      <td>10500</td>\n",
              "      <td>1.692600</td>\n",
              "    </tr>\n",
              "    <tr>\n",
              "      <td>11000</td>\n",
              "      <td>1.650200</td>\n",
              "    </tr>\n",
              "    <tr>\n",
              "      <td>11500</td>\n",
              "      <td>1.633800</td>\n",
              "    </tr>\n",
              "    <tr>\n",
              "      <td>12000</td>\n",
              "      <td>1.613100</td>\n",
              "    </tr>\n",
              "    <tr>\n",
              "      <td>12500</td>\n",
              "      <td>1.599300</td>\n",
              "    </tr>\n",
              "    <tr>\n",
              "      <td>13000</td>\n",
              "      <td>1.570300</td>\n",
              "    </tr>\n",
              "    <tr>\n",
              "      <td>13500</td>\n",
              "      <td>1.549600</td>\n",
              "    </tr>\n",
              "    <tr>\n",
              "      <td>14000</td>\n",
              "      <td>1.535400</td>\n",
              "    </tr>\n",
              "    <tr>\n",
              "      <td>14500</td>\n",
              "      <td>1.522000</td>\n",
              "    </tr>\n",
              "    <tr>\n",
              "      <td>15000</td>\n",
              "      <td>1.492300</td>\n",
              "    </tr>\n",
              "    <tr>\n",
              "      <td>15500</td>\n",
              "      <td>1.385800</td>\n",
              "    </tr>\n",
              "    <tr>\n",
              "      <td>16000</td>\n",
              "      <td>1.324000</td>\n",
              "    </tr>\n",
              "    <tr>\n",
              "      <td>16500</td>\n",
              "      <td>1.311600</td>\n",
              "    </tr>\n",
              "    <tr>\n",
              "      <td>17000</td>\n",
              "      <td>1.309200</td>\n",
              "    </tr>\n",
              "    <tr>\n",
              "      <td>17500</td>\n",
              "      <td>1.292800</td>\n",
              "    </tr>\n",
              "    <tr>\n",
              "      <td>18000</td>\n",
              "      <td>1.284900</td>\n",
              "    </tr>\n",
              "    <tr>\n",
              "      <td>18500</td>\n",
              "      <td>1.275500</td>\n",
              "    </tr>\n",
              "    <tr>\n",
              "      <td>19000</td>\n",
              "      <td>1.254100</td>\n",
              "    </tr>\n",
              "    <tr>\n",
              "      <td>19500</td>\n",
              "      <td>1.243400</td>\n",
              "    </tr>\n",
              "    <tr>\n",
              "      <td>20000</td>\n",
              "      <td>1.229100</td>\n",
              "    </tr>\n",
              "    <tr>\n",
              "      <td>20500</td>\n",
              "      <td>1.144700</td>\n",
              "    </tr>\n",
              "    <tr>\n",
              "      <td>21000</td>\n",
              "      <td>1.091300</td>\n",
              "    </tr>\n",
              "    <tr>\n",
              "      <td>21500</td>\n",
              "      <td>1.083500</td>\n",
              "    </tr>\n",
              "    <tr>\n",
              "      <td>22000</td>\n",
              "      <td>1.090000</td>\n",
              "    </tr>\n",
              "    <tr>\n",
              "      <td>22500</td>\n",
              "      <td>1.082500</td>\n",
              "    </tr>\n",
              "    <tr>\n",
              "      <td>23000</td>\n",
              "      <td>1.067800</td>\n",
              "    </tr>\n",
              "    <tr>\n",
              "      <td>23500</td>\n",
              "      <td>1.060700</td>\n",
              "    </tr>\n",
              "    <tr>\n",
              "      <td>24000</td>\n",
              "      <td>1.056600</td>\n",
              "    </tr>\n",
              "    <tr>\n",
              "      <td>24500</td>\n",
              "      <td>1.043700</td>\n",
              "    </tr>\n",
              "    <tr>\n",
              "      <td>25000</td>\n",
              "      <td>1.020500</td>\n",
              "    </tr>\n",
              "    <tr>\n",
              "      <td>25500</td>\n",
              "      <td>0.984300</td>\n",
              "    </tr>\n",
              "    <tr>\n",
              "      <td>26000</td>\n",
              "      <td>0.930200</td>\n",
              "    </tr>\n",
              "    <tr>\n",
              "      <td>26500</td>\n",
              "      <td>0.919700</td>\n",
              "    </tr>\n",
              "    <tr>\n",
              "      <td>27000</td>\n",
              "      <td>0.926300</td>\n",
              "    </tr>\n",
              "    <tr>\n",
              "      <td>27500</td>\n",
              "      <td>0.913900</td>\n",
              "    </tr>\n",
              "    <tr>\n",
              "      <td>28000</td>\n",
              "      <td>0.911900</td>\n",
              "    </tr>\n",
              "    <tr>\n",
              "      <td>28500</td>\n",
              "      <td>0.896400</td>\n",
              "    </tr>\n",
              "    <tr>\n",
              "      <td>29000</td>\n",
              "      <td>0.899300</td>\n",
              "    </tr>\n",
              "    <tr>\n",
              "      <td>29500</td>\n",
              "      <td>0.888200</td>\n",
              "    </tr>\n",
              "    <tr>\n",
              "      <td>30000</td>\n",
              "      <td>0.891200</td>\n",
              "    </tr>\n",
              "    <tr>\n",
              "      <td>30500</td>\n",
              "      <td>0.852300</td>\n",
              "    </tr>\n",
              "    <tr>\n",
              "      <td>31000</td>\n",
              "      <td>0.801800</td>\n",
              "    </tr>\n",
              "    <tr>\n",
              "      <td>31500</td>\n",
              "      <td>0.808600</td>\n",
              "    </tr>\n",
              "    <tr>\n",
              "      <td>32000</td>\n",
              "      <td>0.802700</td>\n",
              "    </tr>\n",
              "    <tr>\n",
              "      <td>32500</td>\n",
              "      <td>0.799700</td>\n",
              "    </tr>\n",
              "    <tr>\n",
              "      <td>33000</td>\n",
              "      <td>0.789700</td>\n",
              "    </tr>\n",
              "    <tr>\n",
              "      <td>33500</td>\n",
              "      <td>0.792700</td>\n",
              "    </tr>\n",
              "    <tr>\n",
              "      <td>34000</td>\n",
              "      <td>0.786000</td>\n",
              "    </tr>\n",
              "    <tr>\n",
              "      <td>34500</td>\n",
              "      <td>0.775400</td>\n",
              "    </tr>\n",
              "    <tr>\n",
              "      <td>35000</td>\n",
              "      <td>0.777900</td>\n",
              "    </tr>\n",
              "    <tr>\n",
              "      <td>35500</td>\n",
              "      <td>0.768500</td>\n",
              "    </tr>\n",
              "    <tr>\n",
              "      <td>36000</td>\n",
              "      <td>0.714100</td>\n",
              "    </tr>\n",
              "    <tr>\n",
              "      <td>36500</td>\n",
              "      <td>0.715800</td>\n",
              "    </tr>\n",
              "    <tr>\n",
              "      <td>37000</td>\n",
              "      <td>0.714200</td>\n",
              "    </tr>\n",
              "    <tr>\n",
              "      <td>37500</td>\n",
              "      <td>0.715600</td>\n",
              "    </tr>\n",
              "    <tr>\n",
              "      <td>38000</td>\n",
              "      <td>0.713600</td>\n",
              "    </tr>\n",
              "    <tr>\n",
              "      <td>38500</td>\n",
              "      <td>0.710500</td>\n",
              "    </tr>\n",
              "    <tr>\n",
              "      <td>39000</td>\n",
              "      <td>0.704000</td>\n",
              "    </tr>\n",
              "    <tr>\n",
              "      <td>39500</td>\n",
              "      <td>0.702900</td>\n",
              "    </tr>\n",
              "    <tr>\n",
              "      <td>40000</td>\n",
              "      <td>0.704400</td>\n",
              "    </tr>\n",
              "    <tr>\n",
              "      <td>40500</td>\n",
              "      <td>0.687700</td>\n",
              "    </tr>\n",
              "    <tr>\n",
              "      <td>41000</td>\n",
              "      <td>0.650600</td>\n",
              "    </tr>\n",
              "    <tr>\n",
              "      <td>41500</td>\n",
              "      <td>0.655900</td>\n",
              "    </tr>\n",
              "    <tr>\n",
              "      <td>42000</td>\n",
              "      <td>0.655600</td>\n",
              "    </tr>\n",
              "    <tr>\n",
              "      <td>42500</td>\n",
              "      <td>0.654200</td>\n",
              "    </tr>\n",
              "    <tr>\n",
              "      <td>43000</td>\n",
              "      <td>0.662700</td>\n",
              "    </tr>\n",
              "    <tr>\n",
              "      <td>43500</td>\n",
              "      <td>0.654600</td>\n",
              "    </tr>\n",
              "    <tr>\n",
              "      <td>44000</td>\n",
              "      <td>0.650600</td>\n",
              "    </tr>\n",
              "    <tr>\n",
              "      <td>44500</td>\n",
              "      <td>0.648900</td>\n",
              "    </tr>\n",
              "    <tr>\n",
              "      <td>45000</td>\n",
              "      <td>0.647800</td>\n",
              "    </tr>\n",
              "    <tr>\n",
              "      <td>45500</td>\n",
              "      <td>0.641400</td>\n",
              "    </tr>\n",
              "    <tr>\n",
              "      <td>46000</td>\n",
              "      <td>0.612500</td>\n",
              "    </tr>\n",
              "    <tr>\n",
              "      <td>46500</td>\n",
              "      <td>0.620400</td>\n",
              "    </tr>\n",
              "    <tr>\n",
              "      <td>47000</td>\n",
              "      <td>0.623000</td>\n",
              "    </tr>\n",
              "    <tr>\n",
              "      <td>47500</td>\n",
              "      <td>0.617800</td>\n",
              "    </tr>\n",
              "    <tr>\n",
              "      <td>48000</td>\n",
              "      <td>0.618000</td>\n",
              "    </tr>\n",
              "    <tr>\n",
              "      <td>48500</td>\n",
              "      <td>0.615000</td>\n",
              "    </tr>\n",
              "    <tr>\n",
              "      <td>49000</td>\n",
              "      <td>0.614500</td>\n",
              "    </tr>\n",
              "    <tr>\n",
              "      <td>49500</td>\n",
              "      <td>0.614900</td>\n",
              "    </tr>\n",
              "    <tr>\n",
              "      <td>50000</td>\n",
              "      <td>0.612500</td>\n",
              "    </tr>\n",
              "    <tr>\n",
              "      <td>50500</td>\n",
              "      <td>0.618400</td>\n",
              "    </tr>\n",
              "  </tbody>\n",
              "</table><p>"
            ]
          },
          "metadata": {}
        },
        {
          "output_type": "stream",
          "name": "stdout",
          "text": [
            ">>>>> New model is saved! <<<<<\n"
          ]
        }
      ],
      "source": [
        "train(\n",
        "  train_file_path=train_file_path,\n",
        "  model_name=model_name,\n",
        "  output_dir=path,\n",
        "  overwrite_output_dir=overwrite_output_dir,\n",
        "  per_device_train_batch_size=per_device_train_batch_size,\n",
        "  num_train_epochs=num_train_epochs,\n",
        "  save_steps=save_steps,\n",
        "  date=today)"
      ]
    },
    {
      "cell_type": "markdown",
      "metadata": {
        "id": "asMiCJKAJpFy"
      },
      "source": [
        "# Model Evaluation"
      ]
    },
    {
      "cell_type": "markdown",
      "metadata": {
        "id": "_BewpNUhRjcz"
      },
      "source": [
        "### Before training"
      ]
    },
    {
      "cell_type": "markdown",
      "source": [
        "### 英文"
      ],
      "metadata": {
        "id": "_TKYmNHzT089"
      }
    },
    {
      "cell_type": "code",
      "execution_count": null,
      "metadata": {
        "colab": {
          "base_uri": "https://localhost:8080/"
        },
        "id": "QqdZ3APXJowN",
        "outputId": "5479285c-600d-40ad-ff15-bc2472797b00"
      },
      "outputs": [
        {
          "name": "stderr",
          "output_type": "stream",
          "text": [
            "Setting `pad_token_id` to `eos_token_id`:50256 for open-end generation.\n"
          ]
        },
        {
          "name": "stdout",
          "output_type": "stream",
          "text": [
            "output:[{'generated_text': 'The Sindh government on Thursday said it will stop mining in its territory, even where the mining permits belong without the approval of Congress. The Sindh government on Thursday said it will stop mining IOUs in its territory, even where the mining permits belong without the approval of Congress.\\n\\nIn 2012, the Supreme Court cleared an exemption for the mining in Haryana and Rajasthan. Since then, the Haryana government has said that \"it has not taken any action on the'}]\n"
          ]
        }
      ],
      "source": [
        "tokenizer = GPT2Tokenizer.from_pretrained(model_name)\n",
        "model = GPT2LMHeadModel.from_pretrained(model_name)\n",
        "\n",
        "\n",
        "text_generator = TextGenerationPipeline(model, tokenizer)   \n",
        "output = text_generator(\"The Sindh government\", max_length=100, do_sample=True)\n",
        "print(f'output:{output}')"
      ]
    },
    {
      "cell_type": "markdown",
      "source": [
        "### 中文"
      ],
      "metadata": {
        "id": "ZAGnNa-1T2Z7"
      }
    },
    {
      "cell_type": "code",
      "source": [
        "from transformers import BertTokenizer, GPT2LMHeadModel, TextGenerationPipeline\n",
        "tokenizer = BertTokenizer.from_pretrained(\"uer/gpt2-chinese-cluecorpussmall\")\n",
        "model = GPT2LMHeadModel.from_pretrained(\"uer/gpt2-chinese-cluecorpussmall\")\n",
        "text_generator = TextGenerationPipeline(model, tokenizer)   \n",
        "text_generator(\"江苏路街道在上海市的什么地方？\", max_length=100, do_sample=True)"
      ],
      "metadata": {
        "colab": {
          "base_uri": "https://localhost:8080/"
        },
        "id": "LGTCy5gLSkfu",
        "outputId": "04ae7964-3a33-4e09-be94-067a26743957"
      },
      "execution_count": 24,
      "outputs": [
        {
          "output_type": "stream",
          "name": "stderr",
          "text": [
            "Setting `pad_token_id` to `eos_token_id`:50256 for open-end generation.\n"
          ]
        },
        {
          "output_type": "execute_result",
          "data": {
            "text/plain": [
              "[{'generated_text': '江苏路街道在上海市的什么地方？ 为 什 么 说 无 论 是 江 苏 路 街 道 ， 还 是 江 苏 路 街 道 都 有 着 悠 长 的 历 史 ， 无 论 是 江 苏 路 街 道 还 是 江 苏 路 街 道 。 无 论 是 苏 州 河 街 道 ， 还 是 江 苏 路 街 道 ， 无 论 在 南 京 路 到 江 苏 路 这 一 段 ， 还 是 江 苏 路 街 道 ， 无'}]"
            ]
          },
          "metadata": {},
          "execution_count": 24
        }
      ]
    },
    {
      "cell_type": "markdown",
      "metadata": {
        "id": "B7psWuDURnkJ"
      },
      "source": [
        "### After training"
      ]
    },
    {
      "cell_type": "markdown",
      "source": [
        "### 英文"
      ],
      "metadata": {
        "id": "ittDF8F-Ty1R"
      }
    },
    {
      "cell_type": "code",
      "execution_count": null,
      "metadata": {
        "colab": {
          "base_uri": "https://localhost:8080/",
          "height": 516
        },
        "id": "IgER8bYsLfsa",
        "outputId": "7f2a552b-ceaa-4633-92d2-7f9fc8e1ac69"
      },
      "outputs": [
        {
          "output_type": "stream",
          "name": "stderr",
          "text": [
            "The tokenizer class you load from this checkpoint is not the same type as the class this function is called from. It may result in unexpected tokenization. \n",
            "The tokenizer class you load from this checkpoint is 'BertTokenizer'. \n",
            "The class this function is called from is 'GPT2Tokenizer'.\n"
          ]
        },
        {
          "output_type": "error",
          "ename": "TypeError",
          "evalue": "ignored",
          "traceback": [
            "\u001b[0;31m---------------------------------------------------------------------------\u001b[0m",
            "\u001b[0;31mTypeError\u001b[0m                                 Traceback (most recent call last)",
            "\u001b[0;32m<ipython-input-40-af8cd9490863>\u001b[0m in \u001b[0;36m<cell line: 4>\u001b[0;34m()\u001b[0m\n\u001b[1;32m      2\u001b[0m \u001b[0msaved_model\u001b[0m \u001b[0;34m=\u001b[0m \u001b[0moutput_dir\u001b[0m \u001b[0;34m+\u001b[0m \u001b[0mcheckpoint\u001b[0m\u001b[0;34m\u001b[0m\u001b[0;34m\u001b[0m\u001b[0m\n\u001b[1;32m      3\u001b[0m \u001b[0;34m\u001b[0m\u001b[0m\n\u001b[0;32m----> 4\u001b[0;31m \u001b[0mtokenizer\u001b[0m \u001b[0;34m=\u001b[0m \u001b[0mGPT2Tokenizer\u001b[0m\u001b[0;34m.\u001b[0m\u001b[0mfrom_pretrained\u001b[0m\u001b[0;34m(\u001b[0m\u001b[0mmodel_name\u001b[0m\u001b[0;34m)\u001b[0m\u001b[0;34m\u001b[0m\u001b[0;34m\u001b[0m\u001b[0m\n\u001b[0m\u001b[1;32m      5\u001b[0m \u001b[0mmodel\u001b[0m \u001b[0;34m=\u001b[0m \u001b[0mGPT2LMHeadModel\u001b[0m\u001b[0;34m.\u001b[0m\u001b[0mfrom_pretrained\u001b[0m\u001b[0;34m(\u001b[0m\u001b[0msaved_model\u001b[0m\u001b[0;34m)\u001b[0m\u001b[0;34m\u001b[0m\u001b[0;34m\u001b[0m\u001b[0m\n\u001b[1;32m      6\u001b[0m \u001b[0;34m\u001b[0m\u001b[0m\n",
            "\u001b[0;32m/usr/local/lib/python3.9/dist-packages/transformers/tokenization_utils_base.py\u001b[0m in \u001b[0;36mfrom_pretrained\u001b[0;34m(cls, pretrained_model_name_or_path, *init_inputs, **kwargs)\u001b[0m\n\u001b[1;32m   1809\u001b[0m                 \u001b[0mlogger\u001b[0m\u001b[0;34m.\u001b[0m\u001b[0minfo\u001b[0m\u001b[0;34m(\u001b[0m\u001b[0;34mf\"loading file {file_path} from cache at {resolved_vocab_files[file_id]}\"\u001b[0m\u001b[0;34m)\u001b[0m\u001b[0;34m\u001b[0m\u001b[0;34m\u001b[0m\u001b[0m\n\u001b[1;32m   1810\u001b[0m \u001b[0;34m\u001b[0m\u001b[0m\n\u001b[0;32m-> 1811\u001b[0;31m         return cls._from_pretrained(\n\u001b[0m\u001b[1;32m   1812\u001b[0m             \u001b[0mresolved_vocab_files\u001b[0m\u001b[0;34m,\u001b[0m\u001b[0;34m\u001b[0m\u001b[0;34m\u001b[0m\u001b[0m\n\u001b[1;32m   1813\u001b[0m             \u001b[0mpretrained_model_name_or_path\u001b[0m\u001b[0;34m,\u001b[0m\u001b[0;34m\u001b[0m\u001b[0;34m\u001b[0m\u001b[0m\n",
            "\u001b[0;32m/usr/local/lib/python3.9/dist-packages/transformers/tokenization_utils_base.py\u001b[0m in \u001b[0;36m_from_pretrained\u001b[0;34m(cls, resolved_vocab_files, pretrained_model_name_or_path, init_configuration, use_auth_token, cache_dir, local_files_only, _commit_hash, *init_inputs, **kwargs)\u001b[0m\n\u001b[1;32m   1963\u001b[0m         \u001b[0;31m# Instantiate tokenizer.\u001b[0m\u001b[0;34m\u001b[0m\u001b[0;34m\u001b[0m\u001b[0m\n\u001b[1;32m   1964\u001b[0m         \u001b[0;32mtry\u001b[0m\u001b[0;34m:\u001b[0m\u001b[0;34m\u001b[0m\u001b[0;34m\u001b[0m\u001b[0m\n\u001b[0;32m-> 1965\u001b[0;31m             \u001b[0mtokenizer\u001b[0m \u001b[0;34m=\u001b[0m \u001b[0mcls\u001b[0m\u001b[0;34m(\u001b[0m\u001b[0;34m*\u001b[0m\u001b[0minit_inputs\u001b[0m\u001b[0;34m,\u001b[0m \u001b[0;34m**\u001b[0m\u001b[0minit_kwargs\u001b[0m\u001b[0;34m)\u001b[0m\u001b[0;34m\u001b[0m\u001b[0;34m\u001b[0m\u001b[0m\n\u001b[0m\u001b[1;32m   1966\u001b[0m         \u001b[0;32mexcept\u001b[0m \u001b[0mOSError\u001b[0m\u001b[0;34m:\u001b[0m\u001b[0;34m\u001b[0m\u001b[0;34m\u001b[0m\u001b[0m\n\u001b[1;32m   1967\u001b[0m             raise OSError(\n",
            "\u001b[0;32m/usr/local/lib/python3.9/dist-packages/transformers/models/gpt2/tokenization_gpt2.py\u001b[0m in \u001b[0;36m__init__\u001b[0;34m(self, vocab_file, merges_file, errors, unk_token, bos_token, eos_token, pad_token, add_prefix_space, add_bos_token, **kwargs)\u001b[0m\n\u001b[1;32m    186\u001b[0m         \u001b[0mself\u001b[0m\u001b[0;34m.\u001b[0m\u001b[0madd_bos_token\u001b[0m \u001b[0;34m=\u001b[0m \u001b[0madd_bos_token\u001b[0m\u001b[0;34m\u001b[0m\u001b[0;34m\u001b[0m\u001b[0m\n\u001b[1;32m    187\u001b[0m \u001b[0;34m\u001b[0m\u001b[0m\n\u001b[0;32m--> 188\u001b[0;31m         \u001b[0;32mwith\u001b[0m \u001b[0mopen\u001b[0m\u001b[0;34m(\u001b[0m\u001b[0mvocab_file\u001b[0m\u001b[0;34m,\u001b[0m \u001b[0mencoding\u001b[0m\u001b[0;34m=\u001b[0m\u001b[0;34m\"utf-8\"\u001b[0m\u001b[0;34m)\u001b[0m \u001b[0;32mas\u001b[0m \u001b[0mvocab_handle\u001b[0m\u001b[0;34m:\u001b[0m\u001b[0;34m\u001b[0m\u001b[0;34m\u001b[0m\u001b[0m\n\u001b[0m\u001b[1;32m    189\u001b[0m             \u001b[0mself\u001b[0m\u001b[0;34m.\u001b[0m\u001b[0mencoder\u001b[0m \u001b[0;34m=\u001b[0m \u001b[0mjson\u001b[0m\u001b[0;34m.\u001b[0m\u001b[0mload\u001b[0m\u001b[0;34m(\u001b[0m\u001b[0mvocab_handle\u001b[0m\u001b[0;34m)\u001b[0m\u001b[0;34m\u001b[0m\u001b[0;34m\u001b[0m\u001b[0m\n\u001b[1;32m    190\u001b[0m         \u001b[0mself\u001b[0m\u001b[0;34m.\u001b[0m\u001b[0mdecoder\u001b[0m \u001b[0;34m=\u001b[0m \u001b[0;34m{\u001b[0m\u001b[0mv\u001b[0m\u001b[0;34m:\u001b[0m \u001b[0mk\u001b[0m \u001b[0;32mfor\u001b[0m \u001b[0mk\u001b[0m\u001b[0;34m,\u001b[0m \u001b[0mv\u001b[0m \u001b[0;32min\u001b[0m \u001b[0mself\u001b[0m\u001b[0;34m.\u001b[0m\u001b[0mencoder\u001b[0m\u001b[0;34m.\u001b[0m\u001b[0mitems\u001b[0m\u001b[0;34m(\u001b[0m\u001b[0;34m)\u001b[0m\u001b[0;34m}\u001b[0m\u001b[0;34m\u001b[0m\u001b[0;34m\u001b[0m\u001b[0m\n",
            "\u001b[0;31mTypeError\u001b[0m: expected str, bytes or os.PathLike object, not NoneType"
          ]
        }
      ],
      "source": [
        "checkpoint = 'checkpoint-5000' ### choose the saved checkpoint\n",
        "saved_model = output_dir + checkpoint\n",
        "\n",
        "tokenizer = GPT2Tokenizer.from_pretrained(model_name)\n",
        "model = GPT2LMHeadModel.from_pretrained(saved_model)\n",
        "\n",
        "\n",
        "text_generator = TextGenerationPipeline(model, tokenizer)   \n",
        "output = text_generator(\"The Sindh government\", max_length=100, do_sample=True)\n",
        "print(f'output:{output}')"
      ]
    },
    {
      "cell_type": "markdown",
      "source": [
        "### 中文"
      ],
      "metadata": {
        "id": "ySfIMmBCTwg2"
      }
    },
    {
      "cell_type": "code",
      "source": [
        "checkpoint = '2023-04-21/checkpoint-' ### choose the saved checkpoint\n",
        "# saved_model = output_dir + checkpoint\n",
        "for i in range(500,50000,500):\n",
        "  saved_model = output_dir + checkpoint + str(i)\n",
        "  tokenizer = BertTokenizer.from_pretrained(model_name)\n",
        "  model = GPT2LMHeadModel.from_pretrained(saved_model)\n",
        "\n",
        "\n",
        "  text_generator = TextGenerationPipeline(model, tokenizer)\n",
        "  output = text_generator(\"江苏路街道在上海市的什么地方？\", max_length=100, do_sample=True)\n",
        "  print('Checkpoint:',i,'output:',output)\n",
        "\n"
      ],
      "metadata": {
        "colab": {
          "base_uri": "https://localhost:8080/"
        },
        "id": "KcCRHLCBSxLL",
        "outputId": "6bb41490-1763-44f1-f1bc-60db53819f0f"
      },
      "execution_count": 44,
      "outputs": [
        {
          "output_type": "stream",
          "name": "stderr",
          "text": [
            "Setting `pad_token_id` to `eos_token_id`:50256 for open-end generation.\n"
          ]
        },
        {
          "output_type": "stream",
          "name": "stdout",
          "text": [
            "Checkpoint: 500 output: [{'generated_text': \"江苏路街道在上海市的什么地方？ 答 ： 上 海 市 浦 东 新 区 的 上 元 路 街 道 ， 上 海 市 浦 东 新 区 天 桥 区 的 下 元 路 街 道 。 ['上 海 市 金 山 区 浦 阳 镇 ， 是 上 海 市 上 海 市 浦 东 新 区 下 辖 的 一 个 镇 ， 位 于 浦 东 新 区 的 上 海 市 浦 东 新 区 浦 阳 镇 。 上 海 市 金\"}]\n"
          ]
        },
        {
          "output_type": "stream",
          "name": "stderr",
          "text": [
            "Setting `pad_token_id` to `eos_token_id`:50256 for open-end generation.\n"
          ]
        },
        {
          "output_type": "stream",
          "name": "stdout",
          "text": [
            "Checkpoint: 1000 output: [{'generated_text': \"江苏路街道在上海市的什么地方？ 答 ： 浙 江 省 宁 波 市 。 ['江 苏 路 ， 位 于 浙 江 省 宁 波 市 的 哪 个 地 方 ？ 答 ： 浙 江 省 宁 波 市 的 其 中 一 个 街 道 。 ['江 苏 路 ， 是 古 代 的 一 条 中 心 道 路 ， 为 宁 波 江 南 带 的 主 要 道 路 之 一 ， 也 是 中 国 近 代 思 想 史\"}]\n"
          ]
        },
        {
          "output_type": "stream",
          "name": "stderr",
          "text": [
            "Setting `pad_token_id` to `eos_token_id`:50256 for open-end generation.\n"
          ]
        },
        {
          "output_type": "stream",
          "name": "stdout",
          "text": [
            "Checkpoint: 1500 output: [{'generated_text': \"江苏路街道在上海市的什么地方？ 答 ： 沪 杭 公 路 中 、 杭 州 西 南 部 和 江 苏 路 的 另 外 两 段 ， 在 中 山 公 园 边 的 一 个 建 筑 施 工 地 开 始 拆 除 。 ['中 山 公 园 （ ） ， 是 上 海 市 上 海 国 际 机 场 的 航 站 楼 区 域 ， 位 于 上 海 浦 东 国 际 机 场 集 装 箱 航 站 楼 的\"}]\n"
          ]
        },
        {
          "output_type": "stream",
          "name": "stderr",
          "text": [
            "Setting `pad_token_id` to `eos_token_id`:50256 for open-end generation.\n"
          ]
        },
        {
          "output_type": "stream",
          "name": "stdout",
          "text": [
            "Checkpoint: 2000 output: [{'generated_text': \"江苏路街道在上海市的什么地方？ 答 ： 上 海 市 的 黄 浦 区 。 ['上 海 市 黄 浦 区 是 位 于 上 海 市 黄 浦 区 的 一 个 区 域 范 围 。 其 面 积 14. 84 平 方 公 里 ， 人 口 1, 097 万 人 （ 2012 年 ） 。 地 处 黄 浦 区 东 部 ， 为 上 海 市 的 政 治 、 经 济 、 交 通 枢 纽 ， 也 是\"}]\n"
          ]
        },
        {
          "output_type": "stream",
          "name": "stderr",
          "text": [
            "Setting `pad_token_id` to `eos_token_id`:50256 for open-end generation.\n"
          ]
        },
        {
          "output_type": "stream",
          "name": "stdout",
          "text": [
            "Checkpoint: 2500 output: [{'generated_text': \"江苏路街道在上海市的什么地方？ 答 ： 徐 汇 区 城 东 部 。 ['上 海 市 闵 汇 区 是 中 国 上 海 市 徐 汇 区 下 辖 的 一 个 区 。 徐 汇 区 实 行 市 管 区 ， 徐 汇 区 面 积 23. 46 平 方 公 里 ， 总 人 口 5. 7 万 人 （ 2000 年 ） 。 2010 年 ， 徐 汇 区 撤 区 并 乡 镇 建 制 ， 撤 区 并\"}]\n"
          ]
        },
        {
          "output_type": "stream",
          "name": "stderr",
          "text": [
            "Setting `pad_token_id` to `eos_token_id`:50256 for open-end generation.\n"
          ]
        },
        {
          "output_type": "stream",
          "name": "stdout",
          "text": [
            "Checkpoint: 3000 output: [{'generated_text': \"江苏路街道在上海市的什么地方？ 答 ： 上 海 市 浦 东 新 区 金 融 街 。 ['上 海 街 道 是 中 国 上 海 市 浦 东 新 区 下 辖 的 一 个 街 道 办 事 处 。 其 下 辖 3 个 社 区 居 委 会 、 4 个 街 道 办 事 处 、 12 个 镇 和 11 个 村 民 委 员 会 ， 是 上 海 市 历 史 文 化 名 街 ， 中 国 上\"}]\n"
          ]
        },
        {
          "output_type": "stream",
          "name": "stderr",
          "text": [
            "Setting `pad_token_id` to `eos_token_id`:50256 for open-end generation.\n"
          ]
        },
        {
          "output_type": "stream",
          "name": "stdout",
          "text": [
            "Checkpoint: 3500 output: [{'generated_text': '江苏路街道在上海市的什么地方？ 答 ： 位 于 虹 口 区 的 新 金 浦 路 。 [ \" 上 海 天 津 路 街 道 ， 是 中 国 上 海 市 徐 汇 区 下 辖 的 一 个 街 道 ， 位 于 徐 汇 区 南 部 ， 东 临 徐 家 汇 ， 西 毗 徐 汇 区 ， 北 接 徐 汇 区 ， 辖 区 总 面 积 18. 2 平 方 公 里 ， 有 居 委 会 7 座'}]\n"
          ]
        },
        {
          "output_type": "stream",
          "name": "stderr",
          "text": [
            "Setting `pad_token_id` to `eos_token_id`:50256 for open-end generation.\n"
          ]
        },
        {
          "output_type": "stream",
          "name": "stdout",
          "text": [
            "Checkpoint: 4000 output: [{'generated_text': \"江苏路街道在上海市的什么地方？ 答 ： 上 海 。 ['南 浔 古 镇 位 于 长 宁 区 南 浔 镇 ， 始 建 于 南 宋 淳 祐 十 五 年 （ 1272 年 ） ， 是 一 座 具 有 浓 郁 镇 江 风 格 的 古 民 居 。 该 镇 位 于 上 海 市 的 什 么 地 方 ？ 答 ： 上 海 市 的 什 么 地 方 ？ 答 ： 上 海 市 的 什 么 地\"}]\n"
          ]
        },
        {
          "output_type": "stream",
          "name": "stderr",
          "text": [
            "Setting `pad_token_id` to `eos_token_id`:50256 for open-end generation.\n"
          ]
        },
        {
          "output_type": "stream",
          "name": "stdout",
          "text": [
            "Checkpoint: 4500 output: [{'generated_text': \"江苏路街道在上海市的什么地方？ 答 ： 上 海 市 。 ['上 海 市 黄 浦 区 ， 中 国 上 海 市 东 北 部 的 一 个 区 域 ， 位 于 上 海 市 东 北 部 ， 东 起 上 海 市 东 北 部 ， 西 到 盐 田 区 ， 全 区 总 面 积 43. 5 平 方 公 里 。 人 口 34, 847 人 （ 2000 年 人 口 普 查 ） 。 辖 区 西\"}]\n"
          ]
        },
        {
          "output_type": "stream",
          "name": "stderr",
          "text": [
            "Setting `pad_token_id` to `eos_token_id`:50256 for open-end generation.\n"
          ]
        },
        {
          "output_type": "stream",
          "name": "stdout",
          "text": [
            "Checkpoint: 5000 output: [{'generated_text': \"江苏路街道在上海市的什么地方？ 答 ： 上 海 市 的 苏 州 河 。 ['苏 州 河 是 中 国 南 京 市 境 内 河 段 ， 全 长 约 50 公 里 ， 流 域 面 积 2. 5 平 方 千 米 。 上 游 称 苏 北 水 闸 ， 下 游 称 苏 南 河 ， 为 上 海 主 要 渡 口 。 苏 州 河 流 经 此 处 ， 穿 过 南 京 河 ， 自 苏 州\"}]\n"
          ]
        },
        {
          "output_type": "stream",
          "name": "stderr",
          "text": [
            "Setting `pad_token_id` to `eos_token_id`:50256 for open-end generation.\n"
          ]
        },
        {
          "output_type": "stream",
          "name": "stdout",
          "text": [
            "Checkpoint: 5500 output: [{'generated_text': \"江苏路街道在上海市的什么地方？ 答 ： 上 海 市 的 徐 汇 区 。 ['徐 汇 区 （ ） 是 上 海 市 徐 汇 区 下 辖 的 一 个 区 域 ， 成 立 于 1949 年 3 月 1 日 ， 由 徐 汇 区 代 管 。 下 辖 徐 汇 、 徐 汇 两 个 镇 。 2002 年 经 全 国 人 大 常 委 会 批 准 ， 徐 汇 区 撤 区 并 乡 镇 ， 设 立 徐\"}]\n"
          ]
        },
        {
          "output_type": "stream",
          "name": "stderr",
          "text": [
            "Setting `pad_token_id` to `eos_token_id`:50256 for open-end generation.\n"
          ]
        },
        {
          "output_type": "stream",
          "name": "stdout",
          "text": [
            "Checkpoint: 6000 output: [{'generated_text': \"江苏路街道在上海市的什么地方？ 答 ： 全 长 52. 65 公 里 。 ['九 龙 巴 士 总 站 （ ） ， 为 位 于 香 港 九 龙 观 塘 市 中 心 的 巴 士 总 站 ， 位 于 香 港 九 龙 观 塘 市 中 心 ， 邻 近 亚 洲 电 视 及 金 钟 道 。 九 龙 巴 士 总 站 邻 近 亚 洲 电 视 及 金 钟 道 ， 由 九 巴\"}]\n"
          ]
        },
        {
          "output_type": "stream",
          "name": "stderr",
          "text": [
            "Setting `pad_token_id` to `eos_token_id`:50256 for open-end generation.\n"
          ]
        },
        {
          "output_type": "stream",
          "name": "stdout",
          "text": [
            "Checkpoint: 6500 output: [{'generated_text': \"江苏路街道在上海市的什么地方？ 答 ： 上 海 市 第 二 高 的 公 园 。 ['南 汇 区 是 中 国 上 海 市 的 政 治 、 经 济 、 文 化 、 交 通 中 心 城 区 ， 位 于 江 苏 南 汇 区 ， 辖 区 面 积 3. 46 平 方 公 里 ， 人 口 3. 87 万 人 。 2002 年 12 月 ， 在 上 海 市 第 二 高 的 公 园 之 一\"}]\n"
          ]
        },
        {
          "output_type": "stream",
          "name": "stderr",
          "text": [
            "Setting `pad_token_id` to `eos_token_id`:50256 for open-end generation.\n"
          ]
        },
        {
          "output_type": "stream",
          "name": "stdout",
          "text": [
            "Checkpoint: 7000 output: [{'generated_text': \"江苏路街道在上海市的什么地方？ 答 ： 常 熟 市 的 杨 上 镇 和 天 目 门 街 道 。 。 ['浦 东 新 区 ： 浦 东 新 区 的 规 划 区 域 为 ： 常 熟 市 的 规 划 区 域 为 ： 常 熟 市 的 规 划 区 域 为 ： 常 熟 市 的 规 划 区 域 为 ： 金 山 湖 区 、 黄 山 区 、 桃 源 湖 区 、 芦 荡 区 、 纺 织\"}]\n"
          ]
        },
        {
          "output_type": "stream",
          "name": "stderr",
          "text": [
            "Setting `pad_token_id` to `eos_token_id`:50256 for open-end generation.\n"
          ]
        },
        {
          "output_type": "stream",
          "name": "stdout",
          "text": [
            "Checkpoint: 7500 output: [{'generated_text': \"江苏路街道在上海市的什么地方？ 答 ： 南 汇 区 。 ['南 汇 镇 为 中 国 江 苏 省 南 汇 区 下 辖 的 一 个 镇 ， 是 南 汇 区 的 20 个 行 政 村 之 一 ， 位 于 石 浦 镇 中 部 ， 下 辖 13 个 居 委 会 ， 共 有 家 庭 34 口 人 ， 总 面 积 947 平 方 米 。 2016 年 村 级 区 划 调 整 后 为 13 个\"}]\n"
          ]
        },
        {
          "output_type": "stream",
          "name": "stderr",
          "text": [
            "Setting `pad_token_id` to `eos_token_id`:50256 for open-end generation.\n"
          ]
        },
        {
          "output_type": "stream",
          "name": "stdout",
          "text": [
            "Checkpoint: 8000 output: [{'generated_text': \"江苏路街道在上海市的什么地方？ 答 ： 上 海 市 静 安 区 。 ['上 海 市 公 安 局 （ 简 称 市 公 安 局 ） 是 中 国 上 海 市 的 最 高 行 政 机 关 ， 隶 属 上 海 市 委 。 设 于 1933 年 5 月 27 日 。 1934 年 7 月 ， 以 前 上 海 市 人 民 政 府 总 政 治 部 、 上 海 市 公 安 局 为 基 础 ， 组\"}]\n"
          ]
        },
        {
          "output_type": "stream",
          "name": "stderr",
          "text": [
            "Setting `pad_token_id` to `eos_token_id`:50256 for open-end generation.\n"
          ]
        },
        {
          "output_type": "stream",
          "name": "stdout",
          "text": [
            "Checkpoint: 8500 output: [{'generated_text': \"江苏路街道在上海市的什么地方？ 答 ： 上 海 市 徐 汇 区 。 ['徐 汇 区 是 上 海 市 徐 汇 区 下 辖 的 一 个 区 ， 位 于 徐 汇 区 东 北 部 。 下 辖 黄 浦 江 东 岸 上 海 路 78 号 。 徐 汇 区 地 处 徐 汇 区 最 东 部 ， 东 北 部 是 徐 汇 区 ， 东 南 部 是 奉 贤 区 和 浦 东 新 区 ， 南 临\"}]\n"
          ]
        },
        {
          "output_type": "stream",
          "name": "stderr",
          "text": [
            "Setting `pad_token_id` to `eos_token_id`:50256 for open-end generation.\n"
          ]
        },
        {
          "output_type": "stream",
          "name": "stdout",
          "text": [
            "Checkpoint: 9000 output: [{'generated_text': \"江苏路街道在上海市的什么地方？ 答 ： 天 津 市 的 徐 汇 区 。 ['江 苏 路 街 道 是 中 国 上 海 市 的 徐 汇 区 下 辖 的 一 个 街 道 。 江 苏 路 街 道 下 辖 上 海 新 美 陶 湾 居 委 会 、 上 海 大 成 国 际 贸 易 中 心 、 上 海 国 际 金 融 中 心 等 5 个 居 委 会 。 1949 年 ， 上 海 市 人\"}]\n"
          ]
        },
        {
          "output_type": "stream",
          "name": "stderr",
          "text": [
            "Setting `pad_token_id` to `eos_token_id`:50256 for open-end generation.\n"
          ]
        },
        {
          "output_type": "stream",
          "name": "stdout",
          "text": [
            "Checkpoint: 9500 output: [{'generated_text': \"江苏路街道在上海市的什么地方？ 答 ： 浦 东 张 江 镇 。 ['徐 汇 区 是 中 国 上 海 市 西 区 下 辖 的 一 个 区 域 性 街 道 办 事 处 ， 位 于 张 江 镇 以 西 ， 闸 北 区 的 东 部 ， 中 大 型 居 住 区 （ 含 住 宅 区 ） 。 徐 汇 区 设 立 于 1995 年 4 月 15 日 ， 当 时 由 闸 北 区 、 徐 汇\"}]\n"
          ]
        },
        {
          "output_type": "stream",
          "name": "stderr",
          "text": [
            "Setting `pad_token_id` to `eos_token_id`:50256 for open-end generation.\n"
          ]
        },
        {
          "output_type": "stream",
          "name": "stdout",
          "text": [
            "Checkpoint: 10000 output: [{'generated_text': \"江苏路街道在上海市的什么地方？ 答 ： 上 海 市 浦 东 新 区 的 西 南 部 。 ['上 海 市 闵 行 区 是 中 国 上 海 市 浦 东 新 区 的 一 个 区 。 位 于 徐 汇 区 东 南 部 ， 东 面 以 静 安 区 为 主 ， 西 部 以 闸 北 区 为 主 ， 南 面 以 浦 东 新 区 为 辅 ， 北 部 以 浦 东 新 区 为 主 ， 西\"}]\n"
          ]
        },
        {
          "output_type": "stream",
          "name": "stderr",
          "text": [
            "Setting `pad_token_id` to `eos_token_id`:50256 for open-end generation.\n"
          ]
        },
        {
          "output_type": "stream",
          "name": "stdout",
          "text": [
            "Checkpoint: 10500 output: [{'generated_text': \"江苏路街道在上海市的什么地方？ 答 ： 上 海 市 崇 明 县 、 浦 东 新 区 浦 东 南 路 86 号 。 ['福 临 镇 为 浙 江 省 第 三 大 乡 镇 ， 始 建 于 1952 年 ， 于 1954 年 被 命 名 为 市 郊 公 路 ， 1958 年 10 月 被 正 式 命 名 为 福 临 西 部 。 总 面 积 35. 51 平 方 公 里 ， 总 人 口 41891 人\"}]\n"
          ]
        },
        {
          "output_type": "stream",
          "name": "stderr",
          "text": [
            "Setting `pad_token_id` to `eos_token_id`:50256 for open-end generation.\n"
          ]
        },
        {
          "output_type": "stream",
          "name": "stdout",
          "text": [
            "Checkpoint: 11000 output: [{'generated_text': \"江苏路街道在上海市的什么地方？ 答 ： 上 海 市 第 四 中 心 地 带 。 ['上 海 崇 明 岛 规 划 区 （ 又 称 为 崇 明 岛 ， 位 于 上 海 市 浦 东 新 区 ， 面 积 1. 67 平 方 公 里 ） 于 1976 年 7 月 26 日 经 批 准 建 设 ， 1978 年 12 月 30 日 作 为 上 海 市 第 四 批 市 级 历 史 文 化 风 貌\"}]\n"
          ]
        },
        {
          "output_type": "stream",
          "name": "stderr",
          "text": [
            "Setting `pad_token_id` to `eos_token_id`:50256 for open-end generation.\n"
          ]
        },
        {
          "output_type": "stream",
          "name": "stdout",
          "text": [
            "Checkpoint: 11500 output: [{'generated_text': \"江苏路街道在上海市的什么地方？ 答 ： 上 海 市 静 安 区 、 浦 东 新 区 。 ['上 海 市 静 安 区 始 建 于 1951 年 3 月 18 日 ， 为 静 安 区 历 史 最 悠 久 的 一 区 。 位 于 静 安 区 东 部 ， 南 临 静 安 寺 ， 西 接 静 安 区 ， 北 接 复 兴 中 路 ， 总 面 积 38400 平 方 米 ， 总 人 口 61\"}]\n"
          ]
        },
        {
          "output_type": "stream",
          "name": "stderr",
          "text": [
            "Setting `pad_token_id` to `eos_token_id`:50256 for open-end generation.\n"
          ]
        },
        {
          "output_type": "stream",
          "name": "stdout",
          "text": [
            "Checkpoint: 12000 output: [{'generated_text': \"江苏路街道在上海市的什么地方？ 答 ： 江 苏 路 街 道 。 ['上 海 市 长 宁 区 是 下 辖 的 一 个 区 。 江 苏 路 街 道 下 辖 9 个 居 委 会 ， 即 上 海 公 园 、 星 美 、 中 邦 、 城 西 、 德 昌 、 宝 华 、 新 村 、 博 润 、 浦 南 、 城 西 、 海 宁 、 陆 丰 、 松 江 、 浦 东 、 龙 阳 、\"}]\n"
          ]
        },
        {
          "output_type": "stream",
          "name": "stderr",
          "text": [
            "Setting `pad_token_id` to `eos_token_id`:50256 for open-end generation.\n"
          ]
        },
        {
          "output_type": "stream",
          "name": "stdout",
          "text": [
            "Checkpoint: 12500 output: [{'generated_text': \"江苏路街道在上海市的什么地方？ 答 ： 苏 州 大 学 临 顿 中 路 分 校 区 。 ['上 海 市 第 一 中 学 位 于 徐 汇 区 北 洋 模 范 中 学 旁 ， 创 办 于 1907 年 。 创 办 初 期 为 上 海 国 学 研 究 会 ， 1912 年 改 为 上 海 国 学 研 究 会 。 1928 年 改 为 徐 汇 校 区 ， 1939 年 迁 至 今 址 。 1940 年\"}]\n"
          ]
        },
        {
          "output_type": "stream",
          "name": "stderr",
          "text": [
            "Setting `pad_token_id` to `eos_token_id`:50256 for open-end generation.\n"
          ]
        },
        {
          "output_type": "stream",
          "name": "stdout",
          "text": [
            "Checkpoint: 13000 output: [{'generated_text': \"江苏路街道在上海市的什么地方？ 答 ： 武 汉 的 租 界 ， 今 已 成 为 解 放 前 后 城 市 发 展 的 主 要 方 式 ， 曾 经 设 立 金 钢 路 总 站 。 ['上 海 金 钢 路 街 道 是 中 国 上 海 市 武 汉 的 交 通 枢 纽 ， 位 于 原 黄 浦 江 上 游 的 黄 浦 区 ， 以 发 展 武 汉 高 铁 、 武 汉 地 铁 、\"}]\n"
          ]
        },
        {
          "output_type": "stream",
          "name": "stderr",
          "text": [
            "Setting `pad_token_id` to `eos_token_id`:50256 for open-end generation.\n"
          ]
        },
        {
          "output_type": "stream",
          "name": "stdout",
          "text": [
            "Checkpoint: 13500 output: [{'generated_text': \"江苏路街道在上海市的什么地方？ 答 ： 闸 北 区 华 山 路 155 号 。 ['闵 浦 二 中 ， 简 称 闵 二 ， 是 上 海 市 的 第 一 中 学 ， 由 上 海 市 现 代 教 育 研 究 所 和 上 海 市 浦 东 新 区 高 级 中 学 合 并 而 成 ， 位 于 闸 北 区 华 山 路 155 号 。 该 校 为 上 海 市 示 范 性 高 中 ， 前\"}]\n"
          ]
        },
        {
          "output_type": "stream",
          "name": "stderr",
          "text": [
            "Setting `pad_token_id` to `eos_token_id`:50256 for open-end generation.\n"
          ]
        },
        {
          "output_type": "stream",
          "name": "stdout",
          "text": [
            "Checkpoint: 14000 output: [{'generated_text': \"江苏路街道在上海市的什么地方？ 答 ： 上 海 市 崇 明 县 。 ['崇 明 县 （ 简 称 县 ） 是 中 国 广 东 省 广 州 市 的 一 个 县 ， 相 辖 范 围 为 江 门 市 、 海 珠 区 、 越 秀 区 、 花 园 区 、 白 鹤 洞 区 、 增 城 区 、 增 城 区 、 从 化 区 、 龙 湖 区 、 增 城 县 和 中 山 镇 （ 含\"}]\n"
          ]
        },
        {
          "output_type": "stream",
          "name": "stderr",
          "text": [
            "Setting `pad_token_id` to `eos_token_id`:50256 for open-end generation.\n"
          ]
        },
        {
          "output_type": "stream",
          "name": "stdout",
          "text": [
            "Checkpoint: 14500 output: [{'generated_text': \"江苏路街道在上海市的什么地方？ 答 ： 上 海 市 长 宁 区 （ 原 闸 北 区 ） 辖 区 。 ['上 海 市 浦 东 新 区 专 区 是 中 国 上 海 市 浦 东 新 区 ( 区 ) 的 一 个 行 政 区 划 ， 位 于 长 宁 区 （ 原 闸 北 区 ） 以 西 ， 东 到 镇 宁 路 （ 奉 宁 路 、 奉 贤 路 ） ， 西 到 广 佛 地 铁 站\"}]\n"
          ]
        },
        {
          "output_type": "stream",
          "name": "stderr",
          "text": [
            "Setting `pad_token_id` to `eos_token_id`:50256 for open-end generation.\n"
          ]
        },
        {
          "output_type": "stream",
          "name": "stdout",
          "text": [
            "Checkpoint: 15000 output: [{'generated_text': \"江苏路街道在上海市的什么地方？ 答 ： 杨 浦 区 。 ['上 海 市 杨 浦 区 是 上 海 市 普 通 高 等 学 校 的 所 在 地 ， 隶 属 上 海 市 人 民 政 府 、 上 海 市 教 育 部 、 上 海 市 人 民 政 府 直 属 。 辖 区 内 的 上 海 市 人 民 广 场 为 上 海 市 的 中 心 商 务 区 ， 与 徐 汇 区 、 奉 贤\"}]\n"
          ]
        },
        {
          "output_type": "stream",
          "name": "stderr",
          "text": [
            "Setting `pad_token_id` to `eos_token_id`:50256 for open-end generation.\n"
          ]
        },
        {
          "output_type": "stream",
          "name": "stdout",
          "text": [
            "Checkpoint: 15500 output: [{'generated_text': \"江苏路街道在上海市的什么地方？ 答 ： 上 海 市 第 一 中 学 。 ['上 海 市 第 一 中 学 ， 简 称 市 一 中 ， 位 于 上 海 市 浦 东 新 区 南 汇 新 城 镇 上 海 南 路 117 号 附 5 号 ， 是 上 海 市 试 点 学 校 ， 位 于 现 任 上 海 市 浦 东 新 城 镇 南 汇 新 城 镇 南 汇 新 城 东 路 117 号 附\"}]\n"
          ]
        },
        {
          "output_type": "stream",
          "name": "stderr",
          "text": [
            "Setting `pad_token_id` to `eos_token_id`:50256 for open-end generation.\n"
          ]
        },
        {
          "output_type": "stream",
          "name": "stdout",
          "text": [
            "Checkpoint: 16000 output: [{'generated_text': \"江苏路街道在上海市的什么地方？ 答 ： 南 京 西 路 隧 道 。 ['丹 阳 路 街 道 是 中 国 上 海 市 静 安 区 下 辖 的 一 个 街 道 办 事 处 。 辖 区 面 积 3. 3 平 方 公 里 ， 户 籍 人 口 2. 8 万 人 （ 2008 年 ） 。 辖 区 内 的 丹 阳 路 街 道 下 辖 丹 阳 路 第 五 中 学 、 丹 阳 路 第\"}]\n"
          ]
        },
        {
          "output_type": "stream",
          "name": "stderr",
          "text": [
            "Setting `pad_token_id` to `eos_token_id`:50256 for open-end generation.\n"
          ]
        },
        {
          "output_type": "stream",
          "name": "stdout",
          "text": [
            "Checkpoint: 16500 output: [{'generated_text': \"江苏路街道在上海市的什么地方？ 答 ： 是 中 国 江 苏 省 的 一 个 市 辖 区 。 ['苏 州 高 新 区 是 中 国 江 苏 省 的 一 个 高 科 技 产 业 区 域 ， 位 于 江 苏 省 苏 州 市 ， 于 1987 年 9 月 27 日 由 原 苏 州 高 新 区 、 原 南 京 高 科 技 产 业 区 并 入 。 2010 年 8 月 1 日 ， 国 务 院\"}]\n"
          ]
        },
        {
          "output_type": "stream",
          "name": "stderr",
          "text": [
            "Setting `pad_token_id` to `eos_token_id`:50256 for open-end generation.\n"
          ]
        },
        {
          "output_type": "stream",
          "name": "stdout",
          "text": [
            "Checkpoint: 17000 output: [{'generated_text': \"江苏路街道在上海市的什么地方？ 答 ： 长 宁 区 （ 现 江 苏 路 街 道 ） 。 ['镇 江 市 江 宁 区 （ 今 江 苏 路 街 道 ） 是 中 国 江 苏 省 镇 江 市 长 宁 区 下 辖 的 一 个 区 。 辖 区 总 面 积 1. 54 平 方 公 里 ， 人 口 4. 22 万 人 。 1995 年 ， 江 苏 路 街 道 撤 销 ， 原 区 域 设\"}]\n"
          ]
        },
        {
          "output_type": "stream",
          "name": "stderr",
          "text": [
            "Setting `pad_token_id` to `eos_token_id`:50256 for open-end generation.\n"
          ]
        },
        {
          "output_type": "stream",
          "name": "stdout",
          "text": [
            "Checkpoint: 17500 output: [{'generated_text': \"江苏路街道在上海市的什么地方？ 答 ： 上 海 市 静 安 区 。 ['延 中 西 路 街 道 位 于 江 苏 路 街 道 的 中 心 ， 辖 区 面 积 2. 5 平 方 公 里 ， 人 口 7. 3 万 余 人 。 辖 区 面 积 3. 5 平 方 公 里 ， 2000 年 的 时 候 被 划 入 虎 丘 区 ， 是 江 苏 省 重 点 镇 和 镇 级 行 政\"}]\n"
          ]
        },
        {
          "output_type": "stream",
          "name": "stderr",
          "text": [
            "Setting `pad_token_id` to `eos_token_id`:50256 for open-end generation.\n"
          ]
        },
        {
          "output_type": "stream",
          "name": "stdout",
          "text": [
            "Checkpoint: 18000 output: [{'generated_text': \"江苏路街道在上海市的什么地方？ 答 ： 中 华 人 民 共 和 国 上 海 市 的 历 史 建 筑 之 一 。 ['上 海 市 第 三 座 老 式 公 园 ， 位 于 上 海 市 的 历 史 建 筑 之 一 ， 是 上 海 市 最 主 要 的 公 园 之 一 ， 曾 经 辟 为 上 海 市 公 园 。 上 海 市 第 一 高 楼 的 公 园 建 于 1949 年 10 月\"}]\n"
          ]
        },
        {
          "output_type": "stream",
          "name": "stderr",
          "text": [
            "Setting `pad_token_id` to `eos_token_id`:50256 for open-end generation.\n"
          ]
        },
        {
          "output_type": "stream",
          "name": "stdout",
          "text": [
            "Checkpoint: 18500 output: [{'generated_text': \"江苏路街道在上海市的什么地方？ 答 ： 上 海 市 浦 东 新 区 陆 陆 续 续 有 大 量 外 埠 企 业 来 到 上 海 ， 从 事 纺 织 制 衣 业 、 服 装 加 工 业 、 金 融 和 房 地 产 业 等 领 域 的 从 业 人 员 。 ['上 海 市 杨 浦 区 是 上 海 市 浦 东 新 区 的 一 个 重 要 的 旧 区 域 ， 位 于 浦 东\"}]\n"
          ]
        },
        {
          "output_type": "stream",
          "name": "stderr",
          "text": [
            "Setting `pad_token_id` to `eos_token_id`:50256 for open-end generation.\n"
          ]
        },
        {
          "output_type": "stream",
          "name": "stdout",
          "text": [
            "Checkpoint: 19000 output: [{'generated_text': \"江苏路街道在上海市的什么地方？ 答 ： 上 海 市 静 安 区 北 太 平 庄 。 ['徐 汇 区 是 中 国 上 海 市 静 安 区 下 辖 的 一 个 区 域 。 位 于 静 安 区 北 太 平 庄 ， 东 邻 徐 汇 区 六 榕 路 ， 西 靠 静 安 区 的 大 钟 楼 ， 北 靠 徐 汇 区 的 香 山 学 院 和 上 海 市 静 安 区 的 徐 汇 公\"}]\n"
          ]
        },
        {
          "output_type": "stream",
          "name": "stderr",
          "text": [
            "Setting `pad_token_id` to `eos_token_id`:50256 for open-end generation.\n"
          ]
        },
        {
          "output_type": "stream",
          "name": "stdout",
          "text": [
            "Checkpoint: 19500 output: [{'generated_text': \"江苏路街道在上海市的什么地方？ 答 ： 沪 闵 路 、 沪 金 路 、 奉 贤 路 及 奉 天 路 等 路 段 。 ['金 盘 溪 ， 是 中 国 江 苏 省 泰 州 市 境 内 的 一 条 河 流 ， 发 源 于 长 江 中 下 游 古 溪 ， 上 游 呈 季 节 性 绿 色 ， 水 势 强 劲 ， 土 壤 疏 松 ， 为 江 苏 省 养 殖 水 产 大 县 。\"}]\n"
          ]
        },
        {
          "output_type": "stream",
          "name": "stderr",
          "text": [
            "Setting `pad_token_id` to `eos_token_id`:50256 for open-end generation.\n"
          ]
        },
        {
          "output_type": "stream",
          "name": "stdout",
          "text": [
            "Checkpoint: 20000 output: [{'generated_text': \"江苏路街道在上海市的什么地方？ 答 ： 上 海 市 副 中 心 和 上 海 火 车 站 东 侧 。 ['上 海 市 市 区 南 区 是 上 海 市 昔 日 的 一 个 区 域 ， 始 于 徐 汇 区 北 郊 六 祖 庙 路 ， 南 到 浦 东 新 区 塘 桥 镇 ， 东 邻 徐 汇 区 北 郊 六 祖 庙 路 ， 西 接 虹 桥 镇 公 交 枢 纽 ， 北 连 沪\"}]\n"
          ]
        },
        {
          "output_type": "stream",
          "name": "stderr",
          "text": [
            "Setting `pad_token_id` to `eos_token_id`:50256 for open-end generation.\n"
          ]
        },
        {
          "output_type": "stream",
          "name": "stdout",
          "text": [
            "Checkpoint: 20500 output: [{'generated_text': \"江苏路街道在上海市的什么地方？ 答 ： 浙 江 路 街 道 。 ['新 安 雅 （ ） 是 一 家 制 造 及 涂 鸦 用 品 的 跨 国 公 司 。 公 司 以 马 克 · 吐 温 （ ） 的 名 字 命 名 。 总 部 设 於 伦 敦 ， 是 一 间 由 马 克 · 吐 温 （ ） 先 生 开 办 的 奢 侈 品 公 司 。 公 司\"}]\n"
          ]
        },
        {
          "output_type": "stream",
          "name": "stderr",
          "text": [
            "Setting `pad_token_id` to `eos_token_id`:50256 for open-end generation.\n"
          ]
        },
        {
          "output_type": "stream",
          "name": "stdout",
          "text": [
            "Checkpoint: 21000 output: [{'generated_text': \"江苏路街道在上海市的什么地方？ 答 ： 上 海 市 静 安 区 。 ['龙 川 桥 位 于 上 海 市 静 安 区 ， 是 中 国 上 海 市 静 安 区 的 一 座 著 名 古 街 道 ， 位 于 静 安 区 东 南 部 ， 东 到 徐 汇 区 北 山 路 ， 南 到 复 兴 中 路 接 邻 静 安 区 ， 北 到 复 兴 中 路 接 邻 徐 汇 区 。 相 传\"}]\n"
          ]
        },
        {
          "output_type": "stream",
          "name": "stderr",
          "text": [
            "Setting `pad_token_id` to `eos_token_id`:50256 for open-end generation.\n"
          ]
        },
        {
          "output_type": "stream",
          "name": "stdout",
          "text": [
            "Checkpoint: 21500 output: [{'generated_text': \"江苏路街道在上海市的什么地方？ 答 ： 位 于 江 苏 路 中 段 的 徐 汇 区 。 ['徐 汇 区 是 中 国 上 海 市 徐 汇 区 下 辖 的 一 个 区 域 。 由 14 个 街 道 组 成 。 下 辖 9 个 社 区 、 1 个 镇 、 2 个 街 道 ， 2005 年 总 人 口 85734 人 ， 其 中 73. 95 万 居 民 为 奉 贤 人 口 。 徐\"}]\n"
          ]
        },
        {
          "output_type": "stream",
          "name": "stderr",
          "text": [
            "Setting `pad_token_id` to `eos_token_id`:50256 for open-end generation.\n"
          ]
        },
        {
          "output_type": "stream",
          "name": "stdout",
          "text": [
            "Checkpoint: 22000 output: [{'generated_text': \"江苏路街道在上海市的什么地方？ 答 ： 上 海 市 崇 明 县 。 ['徐 汇 区 是 上 海 市 崇 明 县 下 辖 的 一 个 县 。 ， 位 于 江 苏 省 北 部 ， 东 接 崇 明 县 ， 西 接 普 陀 区 ， 北 接 长 宁 区 ， 2010 年 ， 徐 汇 区 撤 销 后 该 部 分 面 积 仍 由 徐 汇 区 镇 江 大 道 （ 原 金 华 路 ） 、\"}]\n"
          ]
        },
        {
          "output_type": "stream",
          "name": "stderr",
          "text": [
            "Setting `pad_token_id` to `eos_token_id`:50256 for open-end generation.\n"
          ]
        },
        {
          "output_type": "stream",
          "name": "stdout",
          "text": [
            "Checkpoint: 22500 output: [{'generated_text': \"江苏路街道在上海市的什么地方？ 答 ： 上 海 市 繁 华 的 地 段 上 ， 新 国 际 路 旁 、 金 桥 路 旁 、 浦 东 南 路 毗 邻 上 海 水 晶 镇 。 。 ['上桢 歌 - { } - 、 - { zh - cn : 崧 ; zh - tw : 崧 ; zh - hk : 崧 ; } - 、 - { zh - cn : 崧 ; zh - hk : 崧 ; zh -\"}]\n"
          ]
        },
        {
          "output_type": "stream",
          "name": "stderr",
          "text": [
            "Setting `pad_token_id` to `eos_token_id`:50256 for open-end generation.\n"
          ]
        },
        {
          "output_type": "stream",
          "name": "stdout",
          "text": [
            "Checkpoint: 23000 output: [{'generated_text': \"江苏路街道在上海市的什么地方？ 答 ： 上 海 市 静 安 区 静 安 寺 街 道 。 ['西 藏 南 路 街 道 是 中 国 上 海 市 静 安 区 下 辖 的 一 个 街 道 办 事 处 ， 辖 区 面 积 1. 1 平 方 公 里 ， 户 籍 人 口 5. 8 万 人 （ 2008 年 ） 。 西 藏 南 路 街 道 辖 区 内 的 宝 通 路 是 上 海 市\"}]\n"
          ]
        },
        {
          "output_type": "stream",
          "name": "stderr",
          "text": [
            "Setting `pad_token_id` to `eos_token_id`:50256 for open-end generation.\n"
          ]
        },
        {
          "output_type": "stream",
          "name": "stdout",
          "text": [
            "Checkpoint: 23500 output: [{'generated_text': \"江苏路街道在上海市的什么地方？ 答 ： 上 海 市 崇 明 县 。 ['崇 明 县 ， 是 明 清 时 上 海 市 崇 明 县 的 县 。 西 南 接 海 瑞 镇 ， 东 南 部 与 平 江 县 相 连 ， 西 面 与 昆 仑 镇 接 壤 。 明 朝 万 历 元 年 （ 1573 年 ） ， 升 富 安 县 为 富 平 县 ， 清 朝 乾 隆 改 为 富 平 县 ，\"}]\n"
          ]
        },
        {
          "output_type": "stream",
          "name": "stderr",
          "text": [
            "Setting `pad_token_id` to `eos_token_id`:50256 for open-end generation.\n"
          ]
        },
        {
          "output_type": "stream",
          "name": "stdout",
          "text": [
            "Checkpoint: 24000 output: [{'generated_text': \"江苏路街道在上海市的什么地方？ 答 ： 闸 北 区 桥 西 街 道 。 ['闸 北 区 闸 北 区 是 中 国 上 海 市 闸 北 区 下 辖 的 一 个 区 域 。 面 积 1. 73 平 方 公 里 ， 2001 年 的 人 口 统 计 为 134924 人 。 共 有 户 10. 04 万 户 ， 2008 年 末 总 人 口 33 万 人 。 现 行 中 华 人 民 共 和\"}]\n"
          ]
        },
        {
          "output_type": "stream",
          "name": "stderr",
          "text": [
            "Setting `pad_token_id` to `eos_token_id`:50256 for open-end generation.\n"
          ]
        },
        {
          "output_type": "stream",
          "name": "stdout",
          "text": [
            "Checkpoint: 24500 output: [{'generated_text': \"江苏路街道在上海市的什么地方？ 答 ： 上 海 市 金 山 区 南 汇 新 城 镇 。 ['上 海 市 金 山 区 人 民 政 府 旧 址 位 于 上 海 市 金 山 区 南 汇 新 城 镇 ， 建 于 1951 年 ， 为 上 海 市 文 物 保 护 单 位 。 小 学 ： 闵 行 区 中 山 路 中 山 公 园 。 上 海 市 轨 道 交 通 二 号 线 、 三 号\"}]\n"
          ]
        },
        {
          "output_type": "stream",
          "name": "stderr",
          "text": [
            "Setting `pad_token_id` to `eos_token_id`:50256 for open-end generation.\n"
          ]
        },
        {
          "output_type": "stream",
          "name": "stdout",
          "text": [
            "Checkpoint: 25000 output: [{'generated_text': \"江苏路街道在上海市的什么地方？ 答 ： 上 海 市 第 二 区 。 ['闵 浦 二 桥 是 中 国 上 海 市 的 一 座 公 路 双 层 斜 拉 桥 ， 座 落 在 浦 东 新 区 陆 家 嘴 西 岸 的 张 江 高 科 技 园 区 。 闵 浦 二 桥 原 称 沪 泾 金 属 路 ， 建 于 1958 年 ， 是 上 海 最 早 的 高 性 能 轻 质 铁 路 牵 引\"}]\n"
          ]
        },
        {
          "output_type": "stream",
          "name": "stderr",
          "text": [
            "Setting `pad_token_id` to `eos_token_id`:50256 for open-end generation.\n"
          ]
        },
        {
          "output_type": "stream",
          "name": "stdout",
          "text": [
            "Checkpoint: 25500 output: [{'generated_text': \"江苏路街道在上海市的什么地方？ 答 ： 上 海 市 南 汇 区 。 ['南 汇 区 是 中 国 上 海 市 浦 东 新 区 所 辖 的 一 个 区 域 。 位 于 长 宁 区 ， 东 以 陕 西 南 路 、 淮 海 中 路 、 安 西 路 、 淮 海 中 路 、 陆 家 嘴 为 核 心 ， 西 以 安 西 路 、 淮 海 中 路 、 金 桥 中 路 毗 邻 静 安\"}]\n"
          ]
        },
        {
          "output_type": "stream",
          "name": "stderr",
          "text": [
            "Setting `pad_token_id` to `eos_token_id`:50256 for open-end generation.\n"
          ]
        },
        {
          "output_type": "stream",
          "name": "stdout",
          "text": [
            "Checkpoint: 26000 output: [{'generated_text': \"江苏路街道在上海市的什么地方？ 答 ： 上 海 市 徐 汇 区 。 ['徐 汇 区 ， 是 中 国 上 海 市 徐 汇 区 下 辖 的 一 个 区 域 。 下 辖 14 个 街 道 办 事 处 ， 区 政 府 驻 徐 汇 区 。 江 苏 路 街 道 下 辖 徐 汇 区 、 镇 江 区 、 浦 东 区 、 徐 汇 区 、 仓 山 区 、 浦 东 新 区 、 奉 浦 区\"}]\n"
          ]
        },
        {
          "output_type": "stream",
          "name": "stderr",
          "text": [
            "Setting `pad_token_id` to `eos_token_id`:50256 for open-end generation.\n"
          ]
        },
        {
          "output_type": "stream",
          "name": "stdout",
          "text": [
            "Checkpoint: 26500 output: [{'generated_text': \"江苏路街道在上海市的什么地方？ 答 ： 上 海 市 长 宁 区 和 浦 东 新 区 。 ['上 海 市 第 三 中 学 ， 源 于 1938 年 建 校 。 抗 日 战 争 初 期 以 来 ， 始 有 上 海 第 一 中 学 ， 抗 战 时 曾 改 名 为 江 苏 省 立 第 四 中 学 ， 1946 年 更 名 为 江 苏 省 立 第 四 中 学 。 后 经 多 次 迁 校\"}]\n"
          ]
        },
        {
          "output_type": "stream",
          "name": "stderr",
          "text": [
            "Setting `pad_token_id` to `eos_token_id`:50256 for open-end generation.\n"
          ]
        },
        {
          "output_type": "stream",
          "name": "stdout",
          "text": [
            "Checkpoint: 27000 output: [{'generated_text': \"江苏路街道在上海市的什么地方？ 答 ： 徐 汇 区 中 山 路 中 段 南 侧 。 ['徐 汇 区 是 中 国 上 海 市 徐 汇 区 下 辖 的 一 个 区 域 。 2002 年 徐 汇 区 撤 销 ， 原 地 域 划 归 徐 汇 区 。 2016 年 ， 徐 汇 区 撤 销 ， 原 地 域 划 归 长 宁 区 。 现 任 镇 长 是 上 海 市 武 进 区 人 民 政 府\"}]\n"
          ]
        },
        {
          "output_type": "stream",
          "name": "stderr",
          "text": [
            "Setting `pad_token_id` to `eos_token_id`:50256 for open-end generation.\n"
          ]
        },
        {
          "output_type": "stream",
          "name": "stdout",
          "text": [
            "Checkpoint: 27500 output: [{'generated_text': \"江苏路街道在上海市的什么地方？ 答 ： 上 海 市 第 三 中 山 路 184 号 。 ['上 海 市 第 三 中 山 路 街 道 是 中 国 上 海 市 浦 东 新 区 南 汇 新 城 镇 。 位 于 松 江 区 东 南 部 ， 东 到 镇 湖 路 ， 西 到 吴 中 路 接 邻 上 海 市 委 大 楼 ， 北 临 长 洲 接 邻 静 安 区 。 面 积 1. 93\"}]\n"
          ]
        },
        {
          "output_type": "stream",
          "name": "stderr",
          "text": [
            "Setting `pad_token_id` to `eos_token_id`:50256 for open-end generation.\n"
          ]
        },
        {
          "output_type": "stream",
          "name": "stdout",
          "text": [
            "Checkpoint: 28000 output: [{'generated_text': \"江苏路街道在上海市的什么地方？ 答 ： 华 山 路 街 道 办 事 处 。 ['徐 汇 区 ， 是 中 国 上 海 市 徐 汇 区 下 辖 的 一 个 区 域 。 位 于 徐 汇 区 东 北 部 ， 东 以 陕 西 南 路 、 陕 西 北 路 、 华 山 路 毗 邻 长 宁 区 ， 东 以 陕 西 北 路 、 华 山 路 毗 邻 长 宁 区 ， 西 以 安 定 西\"}]\n"
          ]
        },
        {
          "output_type": "stream",
          "name": "stderr",
          "text": [
            "Setting `pad_token_id` to `eos_token_id`:50256 for open-end generation.\n"
          ]
        },
        {
          "output_type": "stream",
          "name": "stdout",
          "text": [
            "Checkpoint: 28500 output: [{'generated_text': \"江苏路街道在上海市的什么地方？ 答 ： 上 海 市 闸 北 区 。 ['闵 浦 二 桥 ， 原 名 大 桥 ， 是 位 于 上 海 市 的 一 座 跨 江 河 口 拱 桥 ， 是 跨 江 索 面 过 渡 带 上 的 一 座 重 要 节 点 桥 梁 ， 上 海 市 轨 道 交 通 二 号 线 和 一 号 线 经 过 该 桥 接 轨 。 大 桥 的 西 岸 位 于 闵\"}]\n"
          ]
        },
        {
          "output_type": "stream",
          "name": "stderr",
          "text": [
            "Setting `pad_token_id` to `eos_token_id`:50256 for open-end generation.\n"
          ]
        },
        {
          "output_type": "stream",
          "name": "stdout",
          "text": [
            "Checkpoint: 29000 output: [{'generated_text': \"江苏路街道在上海市的什么地方？ 答 ： 上 海 市 浦 东 新 区 陆 家 嘴 。 ['徐 汇 区 ， 是 中 国 上 海 市 徐 汇 区 下 辖 的 一 个 区 域 ， 位 于 徐 汇 区 东 部 ， 东 以 陕 西 南 路 与 长 宁 区 瑞 金 二 路 街 道 、 长 宁 路 街 道 、 浦 东 新 区 文 礼 路 街 道 相 邻 ， 西 以 安 亭 路 毗\"}]\n"
          ]
        },
        {
          "output_type": "stream",
          "name": "stderr",
          "text": [
            "Setting `pad_token_id` to `eos_token_id`:50256 for open-end generation.\n"
          ]
        },
        {
          "output_type": "stream",
          "name": "stdout",
          "text": [
            "Checkpoint: 29500 output: [{'generated_text': \"江苏路街道在上海市的什么地方？ 答 ： 上 海 市 静 安 区 。 ['静 安 区 是 中 国 上 海 市 静 安 区 下 辖 的 一 个 区 ， 位 于 静 安 区 北 部 ， 东 到 长 宁 区 、 延 安 西 路 接 邻 静 安 区 。 面 积 1. 52 平 方 公 里 。 是 长 宁 区 第 三 大 商 业 街 ， 也 是 江 宁 最 早 的 电 影 院\"}]\n"
          ]
        },
        {
          "output_type": "stream",
          "name": "stderr",
          "text": [
            "Setting `pad_token_id` to `eos_token_id`:50256 for open-end generation.\n"
          ]
        },
        {
          "output_type": "stream",
          "name": "stdout",
          "text": [
            "Checkpoint: 30000 output: [{'generated_text': \"江苏路街道在上海市的什么地方？ 答 ： 锦 江 四 路 街 道 。 ['锦 江 桥 是 位 于 上 海 市 的 一 座 跨 江 特 别 公 路 跨 江 桥 梁 ， 是 一 座 跨 越 锦 江 区 的 公 路 两 用 双 层 斜 拉 桥 。 上 层 承 担 由 锦 江 五 桥 至 江 苏 路 街 道 的 长 江 南 岸 越 江 工 程 项 目 ， 下 层 承\"}]\n"
          ]
        },
        {
          "output_type": "stream",
          "name": "stderr",
          "text": [
            "Setting `pad_token_id` to `eos_token_id`:50256 for open-end generation.\n"
          ]
        },
        {
          "output_type": "stream",
          "name": "stdout",
          "text": [
            "Checkpoint: 30500 output: [{'generated_text': \"江苏路街道在上海市的什么地方？ 答 ： 上 海 市 长 宁 区 。 ['上 海 市 长 宁 区 是 江 苏 省 苏 州 市 的 一 个 区 域 名 。 位 于 苏 州 东 北 部 ， 东 到 太 仓 路 接 邻 静 安 区 ， 北 到 华 山 路 接 邻 徐 汇 区 ， 西 到 长 乐 路 接 邻 静 安 区 ， 南 到 陕 西 南 路 接 邻 吴 村 镇 和 曹\"}]\n"
          ]
        },
        {
          "output_type": "stream",
          "name": "stderr",
          "text": [
            "Setting `pad_token_id` to `eos_token_id`:50256 for open-end generation.\n"
          ]
        },
        {
          "output_type": "stream",
          "name": "stdout",
          "text": [
            "Checkpoint: 31000 output: [{'generated_text': \"江苏路街道在上海市的什么地方？ 答 ： 浦 东 新 区 南 汇 新 村 虹 口 区 。 ['闵 浦 二 桥 ， 即 沪 闵 路 － 奉 贤 方 向 的 一 座 公 路 双 层 桥 梁 ， 原 名 奉 贤 大 桥 或 奉 贤 东 路 。 闵 浦 二 桥 南 起 奉 贤 西 路 ， 沿 奉 贤 西 路 到 奉 贤 西 路 接 邻 奉 贤 区 政 府 ， 然 后 沿 奉\"}]\n"
          ]
        },
        {
          "output_type": "stream",
          "name": "stderr",
          "text": [
            "Setting `pad_token_id` to `eos_token_id`:50256 for open-end generation.\n"
          ]
        },
        {
          "output_type": "stream",
          "name": "stdout",
          "text": [
            "Checkpoint: 31500 output: [{'generated_text': \"江苏路街道在上海市的什么地方？ 答 ： 上 海 市 闸 北 区 。 ['上 海 市 第 四 中 学 ， 简 称 上 海 市 第 四 中 学 ， 是 上 海 市 示 范 性 高 中 ， 位 于 徐 汇 区 马 巷 13 号 ， 是 上 海 市 高 中 示 范 校 。 该 校 创 办 于 1906 年 ， 前 身 是 中 华 民 国 上 海 公 立 学 校 ， 1945 年 迁 至\"}]\n"
          ]
        },
        {
          "output_type": "stream",
          "name": "stderr",
          "text": [
            "Setting `pad_token_id` to `eos_token_id`:50256 for open-end generation.\n"
          ]
        },
        {
          "output_type": "stream",
          "name": "stdout",
          "text": [
            "Checkpoint: 32000 output: [{'generated_text': \"江苏路街道在上海市的什么地方？ 答 ： 上 海 市 浦 东 新 区 一 带 。 ['上 海 光 源 （ 集 团 ） 有 限 公 司 ， 简 称 光 源 （ 集 团 ） 有 限 公 司 、 光 源 （ 集 团 ） 有 限 公 司 ， （ ） ， 是 一 家 位 于 中 国 上 海 市 浦 东 新 区 一 带 的 大 型 化 工 企 业 ， 隶 属 于 上 海 市 国\"}]\n"
          ]
        },
        {
          "output_type": "stream",
          "name": "stderr",
          "text": [
            "Setting `pad_token_id` to `eos_token_id`:50256 for open-end generation.\n"
          ]
        },
        {
          "output_type": "stream",
          "name": "stdout",
          "text": [
            "Checkpoint: 32500 output: [{'generated_text': \"江苏路街道在上海市的什么地方？ 答 ： 淮 海 中 路 淮 海 中 路 永 安 里 大 堂 。 ['淮 海 中 路 中 段 是 上 海 法 租 界 最 南 端 的 街 道 ， 位 于 上 海 市 徐 汇 区 东 北 部 ， 东 到 徐 汇 区 南 汇 区 ， 西 到 虹 口 区 ， 南 到 北 京 东 路 ， 东 临 淮 海 中 路 ， 面 积 1. 73 平 方\"}]\n"
          ]
        },
        {
          "output_type": "stream",
          "name": "stderr",
          "text": [
            "Setting `pad_token_id` to `eos_token_id`:50256 for open-end generation.\n"
          ]
        },
        {
          "output_type": "stream",
          "name": "stdout",
          "text": [
            "Checkpoint: 33000 output: [{'generated_text': \"江苏路街道在上海市的什么地方？ 答 ： 中 山 公 园 。 ['南 京 西 路 街 道 是 中 国 上 海 市 的 一 条 街 道 办 事 处 ， 位 于 中 山 公 园 南 丹 路 和 苏 州 河 街 道 相 邻 。 南 京 西 路 街 道 位 于 中 山 公 园 西 北 部 ， 北 到 人 民 大 街 ， 南 到 淮 海 中 路 ， 东 到 淮 海 中 路 ，\"}]\n"
          ]
        },
        {
          "output_type": "stream",
          "name": "stderr",
          "text": [
            "Setting `pad_token_id` to `eos_token_id`:50256 for open-end generation.\n"
          ]
        },
        {
          "output_type": "stream",
          "name": "stdout",
          "text": [
            "Checkpoint: 33500 output: [{'generated_text': \"江苏路街道在上海市的什么地方？ 答 ： 上 海 市 工 农 委 管 理 。 ['上 海 市 工 业 技 术 研 究 院 ， 简 称 市 工 研 院 ， 是 经 国 务 院 领 导 批 准 ， 自 1978 年 正 式 建 立 的 中 国 一 流 、 中 国 制 造 创 新 型 研 究 院 。 市 工 业 技 术 研 究 院 隶 属 于 中 华 人 民 共 和 国 国 务\"}]\n"
          ]
        },
        {
          "output_type": "stream",
          "name": "stderr",
          "text": [
            "Setting `pad_token_id` to `eos_token_id`:50256 for open-end generation.\n"
          ]
        },
        {
          "output_type": "stream",
          "name": "stdout",
          "text": [
            "Checkpoint: 34000 output: [{'generated_text': \"江苏路街道在上海市的什么地方？ 答 ： 上 海 市 浦 东 新 区 万 宁 路 1120 号 。 ['沪 北 机 场 （ ； ） ， 位 于 上 海 市 浦 东 新 区 万 宁 路 1120 号 。 是 一 座 可 供 乘 客 快 速 转 线 、 观 光 的 综 合 性 机 场 。 其 前 身 为 「 东 方 银 座 」 。 现 有 三 组 航 站 及 跑 道 ， 可\"}]\n"
          ]
        },
        {
          "output_type": "stream",
          "name": "stderr",
          "text": [
            "Setting `pad_token_id` to `eos_token_id`:50256 for open-end generation.\n"
          ]
        },
        {
          "output_type": "stream",
          "name": "stdout",
          "text": [
            "Checkpoint: 34500 output: [{'generated_text': \"江苏路街道在上海市的什么地方？ 答 ： 江 苏 路 街 道 辖 区 内 。 ['上 海 市 轨 道 交 通 二 号 线 、 三 号 线 、 四 号 线 以 该 街 道 辖 区 的 中 山 公 园 站 为 换 乘 枢 纽 ， 沿 江 苏 路 街 道 两 侧 的 上 海 市 人 民 政 府 和 上 海 市 浦 东 新 区 人 民 政 府 对 外 开 放 。 三 号 线\"}]\n"
          ]
        },
        {
          "output_type": "stream",
          "name": "stderr",
          "text": [
            "Setting `pad_token_id` to `eos_token_id`:50256 for open-end generation.\n"
          ]
        },
        {
          "output_type": "stream",
          "name": "stdout",
          "text": [
            "Checkpoint: 35000 output: [{'generated_text': \"江苏路街道在上海市的什么地方？ 答 ： 上 海 市 繁 文 区 。 ['南 京 西 路 街 道 是 中 国 上 海 市 静 安 区 下 辖 的 一 个 街 道 办 事 处 。 辖 区 总 面 积 3. 7 平 方 公 里 ， 下 辖 9 个 社 区 ， 常 住 人 口 7. 44 万 人 。 街 道 办 事 处 驻 延 安 中 路 22 号 。 1949 年 属 静 安\"}]\n"
          ]
        },
        {
          "output_type": "stream",
          "name": "stderr",
          "text": [
            "Setting `pad_token_id` to `eos_token_id`:50256 for open-end generation.\n"
          ]
        },
        {
          "output_type": "stream",
          "name": "stdout",
          "text": [
            "Checkpoint: 35500 output: [{'generated_text': \"江苏路街道在上海市的什么地方？ 答 ： 位 于 上 海 市 的 中 山 路 。 ['江 苏 路 街 道 是 中 国 上 海 市 的 一 个 街 道 办 事 处 ， 位 于 徐 汇 区 东 北 部 ， 东 以 陕 西 南 路 与 黄 浦 区 瑞 金 二 路 街 道 相 邻 ， 西 以 长 宁 路 毗 邻 静 安 区 ， 北 以 复 兴 中 路 毗 邻 静 安 区 ，\"}]\n"
          ]
        },
        {
          "output_type": "stream",
          "name": "stderr",
          "text": [
            "Setting `pad_token_id` to `eos_token_id`:50256 for open-end generation.\n"
          ]
        },
        {
          "output_type": "stream",
          "name": "stdout",
          "text": [
            "Checkpoint: 36000 output: [{'generated_text': \"江苏路街道在上海市的什么地方？ 答 ： 中 山 公 园 东 路 街 道 辖 区 内 。 ['延 中 巴 士 总 站 位 于 中 山 公 园 东 路 ， 是 一 个 巴 士 总 站 ， 位 于 上 海 市 的 中 山 公 园 东 路 和 延 安 西 路 街 道 。 该 总 站 是 嘉 定 区 的 主 要 公 共 交 通 枢 纽 之 一 ， 设 有 地 铁 7 号 线\"}]\n"
          ]
        },
        {
          "output_type": "stream",
          "name": "stderr",
          "text": [
            "Setting `pad_token_id` to `eos_token_id`:50256 for open-end generation.\n"
          ]
        },
        {
          "output_type": "stream",
          "name": "stdout",
          "text": [
            "Checkpoint: 36500 output: [{'generated_text': \"江苏路街道在上海市的什么地方？ 答 ： 苏 州 东 区 吴 江 路 83 号 。 ['苏 州 高 院 是 中 国 江 苏 省 苏 州 市 的 高 级 行 政 法 院 和 苏 州 市 高 级 法 院 的 组 成 部 分 ， 位 于 苏 州 市 中 心 地 段 ， 在 姑 苏 区 划 中 位 于 苏 州 古 城 中 心 ， 苏 州 最 早 的 三 个 法 院 之 一 。\"}]\n"
          ]
        },
        {
          "output_type": "stream",
          "name": "stderr",
          "text": [
            "Setting `pad_token_id` to `eos_token_id`:50256 for open-end generation.\n"
          ]
        },
        {
          "output_type": "stream",
          "name": "stdout",
          "text": [
            "Checkpoint: 37000 output: [{'generated_text': \"江苏路街道在上海市的什么地方？ 答 ： 静 安 区 。 ['高 淳 是 位 于 江 苏 省 镇 江 市 高 淳 区 的 一 个 镇 。 是 高 淳 县 政 治 、 经 济 、 文 化 、 交 通 的 中 心 。 镇 域 北 与 安 徽 省 南 部 相 连 ， 西 与 安 庆 市 相 连 ， 南 与 上 海 市 浦 江 镇 接 壤 ； 西 、 西 北 、 东 南 三\"}]\n"
          ]
        },
        {
          "output_type": "stream",
          "name": "stderr",
          "text": [
            "Setting `pad_token_id` to `eos_token_id`:50256 for open-end generation.\n"
          ]
        },
        {
          "output_type": "stream",
          "name": "stdout",
          "text": [
            "Checkpoint: 37500 output: [{'generated_text': \"江苏路街道在上海市的什么地方？ 答 ： 上 海 市 第 三 区 的 南 部 。 ['闵 浦 二 桥 ， 即 沪 宁 铁 路 上 海 站 的 地 标 。 原 名 三 江 桥 ， 建 于 1914 年 ， 是 中 国 建 设 银 行 负 责 维 护 江 苏 省 沿 海 地 区 经 济 和 贸 易 中 心 关 系 的 重 要 组 成 部 分 。 闵 浦 二 桥 是 上 海 市\"}]\n"
          ]
        },
        {
          "output_type": "stream",
          "name": "stderr",
          "text": [
            "Setting `pad_token_id` to `eos_token_id`:50256 for open-end generation.\n"
          ]
        },
        {
          "output_type": "stream",
          "name": "stdout",
          "text": [
            "Checkpoint: 38000 output: [{'generated_text': \"江苏路街道在上海市的什么地方？ 答 ： 徐 汇 区 。 ['徐 汇 区 是 下 辖 的 一 个 区 域 ？ 答 ： 徐 汇 区 下 辖 15 个 街 道 ， 一 盘 棋 只 有 一 个 分 区 。 。 ['徐 汇 区 是 中 国 江 苏 省 徐 汇 区 下 辖 的 一 个 区 域 。 2004 年 7 月 23 日 经 上 海 市 人 民 政 府 批 准 ， 徐 汇 区\"}]\n"
          ]
        },
        {
          "output_type": "stream",
          "name": "stderr",
          "text": [
            "Setting `pad_token_id` to `eos_token_id`:50256 for open-end generation.\n"
          ]
        },
        {
          "output_type": "stream",
          "name": "stdout",
          "text": [
            "Checkpoint: 38500 output: [{'generated_text': \"江苏路街道在上海市的什么地方？ 答 ： 江 苏 路 街 道 办 事 处 驻 闵 行 区 百 安 居 委 会 。 ['复 兴 东 路 街 道 是 中 国 上 海 市 徐 汇 区 下 辖 的 一 个 街 道 办 事 处 。 ， 位 于 徐 汇 区 东 北 部 ， 东 以 陕 西 南 路 与 黄 浦 区 瑞 金 二 路 街 道 相 邻 ， 西 以 兴 国 路 毗 邻 长\"}]\n"
          ]
        },
        {
          "output_type": "stream",
          "name": "stderr",
          "text": [
            "Setting `pad_token_id` to `eos_token_id`:50256 for open-end generation.\n"
          ]
        },
        {
          "output_type": "stream",
          "name": "stdout",
          "text": [
            "Checkpoint: 39000 output: [{'generated_text': \"江苏路街道在上海市的什么地方？ 答 ： 长 宁 区 。 ['上 海 市 第 三 中 学 ， 简 称 上 海 市 第 三 中 学 ， 是 一 所 位 于 上 海 市 长 宁 区 的 公 立 学 校 。 本 校 创 办 于 1906 年 ， 前 身 为 上 海 市 立 第 一 高 小 学 校 ， 二 战 后 停 办 。 1945 年 迁 至 现 址 ， 1946 年 改 为 现 名 。\"}]\n"
          ]
        },
        {
          "output_type": "stream",
          "name": "stderr",
          "text": [
            "Setting `pad_token_id` to `eos_token_id`:50256 for open-end generation.\n"
          ]
        },
        {
          "output_type": "stream",
          "name": "stdout",
          "text": [
            "Checkpoint: 39500 output: [{'generated_text': \"江苏路街道在上海市的什么地方？ 答 ： 闸 北 区 。 ['闸 北 区 ( 闸 北 区 ) 是 中 国 上 海 市 静 安 区 下 辖 的 一 个 区 域 。 位 于 静 安 区 最 东 部 ， 东 临 静 安 区 ， 西 接 安 福 路 ， 南 接 静 安 区 ， 东 临 安 西 路 ， 北 接 复 兴 中 路 ， 总 面 积 1. 62 平 方 公 里 ， 户\"}]\n"
          ]
        },
        {
          "output_type": "stream",
          "name": "stderr",
          "text": [
            "Setting `pad_token_id` to `eos_token_id`:50256 for open-end generation.\n"
          ]
        },
        {
          "output_type": "stream",
          "name": "stdout",
          "text": [
            "Checkpoint: 40000 output: [{'generated_text': \"江苏路街道在上海市的什么地方？ 答 ： 上 海 市 长 宁 区 。 ['江 苏 路 街 道 是 中 国 上 海 市 长 宁 区 下 辖 的 一 个 街 道 ， 位 于 长 宁 区 东 部 ， 东 到 长 宁 区 马 巷 、 六 婆 桥 、 庆 春 路 ， 南 到 延 安 西 路 ， 东 到 吴 中 路 ， 北 到 天 平 路 ， 面 积 2. 96 平 方 公 里\"}]\n"
          ]
        },
        {
          "output_type": "stream",
          "name": "stderr",
          "text": [
            "Setting `pad_token_id` to `eos_token_id`:50256 for open-end generation.\n"
          ]
        },
        {
          "output_type": "stream",
          "name": "stdout",
          "text": [
            "Checkpoint: 40500 output: [{'generated_text': \"江苏路街道在上海市的什么地方？ 答 ： 上 海 市 崇 明 县 境 内 。 ['上 海 市 崇 明 县 是 江 苏 省 南 部 江 苏 省 的 一 个 县 ， 中 国 江 苏 省 的 首 区 和 设 区 之 一 。 1950 年 3 月 ， 撤 销 苏 州 市 ， 置 崇 明 县 ， 当 时 属 江 苏 省 天 水 市 和 上 海 市 浦 东 新 区 ， 1958 年 改 为\"}]\n"
          ]
        },
        {
          "output_type": "stream",
          "name": "stderr",
          "text": [
            "Setting `pad_token_id` to `eos_token_id`:50256 for open-end generation.\n"
          ]
        },
        {
          "output_type": "stream",
          "name": "stdout",
          "text": [
            "Checkpoint: 41000 output: [{'generated_text': \"江苏路街道在上海市的什么地方？ 答 ： 上 海 市 徐 汇 区 。 ['瑞 金 二 路 街 道 是 中 国 上 海 市 徐 汇 区 下 辖 的 一 个 街 道 办 事 处 。 。 于 1958 年 9 月 23 日 ， 徐 汇 区 政 府 迁 往 徐 汇 区 北 徐 家 汇 镇 ， 隶 属 于 奉 贤 区 。 2001 年 9 月 21 日 ， 上 海 市 人 民 政 府 批 准\"}]\n"
          ]
        },
        {
          "output_type": "stream",
          "name": "stderr",
          "text": [
            "Setting `pad_token_id` to `eos_token_id`:50256 for open-end generation.\n"
          ]
        },
        {
          "output_type": "stream",
          "name": "stdout",
          "text": [
            "Checkpoint: 41500 output: [{'generated_text': \"江苏路街道在上海市的什么地方？ 答 ： 上 海 市 静 安 区 。 ['汇 豪 山 （ ） 位 于 香 港 元 朗 区 北 角 丹 拿 道 904 号 ， 是 一 座 位 于 香 港 元 朗 市 中 心 的 摩 天 大 楼 。 汇 豪 山 由 九 广 铁 路 公 司 及 长 江 实 业 联 合 发 展 ， 其 前 身 是 「 汇 豪 山 地 及 汇 安 邨 」 ，\"}]\n"
          ]
        },
        {
          "output_type": "stream",
          "name": "stderr",
          "text": [
            "Setting `pad_token_id` to `eos_token_id`:50256 for open-end generation.\n"
          ]
        },
        {
          "output_type": "stream",
          "name": "stdout",
          "text": [
            "Checkpoint: 42000 output: [{'generated_text': \"江苏路街道在上海市的什么地方？ 答 ： 上 海 市 浦 东 新 区 南 汇 新 城 镇 。 ['汇 豪 山 （ 英 文 ： ） 位 于 香 港 新 界 荃 湾 合 福 工 业 大 厦 ， 是 新 濠 锋 酒 店 的 7 座 住 宅 酒 店 之 一 ， 亦 是 新 濠 锋 酒 店 集 团 的 旗 舰 ， 于 1987 年 入 伙 前 出 售 予 庄 启 程 创\"}]\n"
          ]
        },
        {
          "output_type": "stream",
          "name": "stderr",
          "text": [
            "Setting `pad_token_id` to `eos_token_id`:50256 for open-end generation.\n"
          ]
        },
        {
          "output_type": "stream",
          "name": "stdout",
          "text": [
            "Checkpoint: 42500 output: [{'generated_text': \"江苏路街道在上海市的什么地方？ 答 ： 南 京 西 路 街 道 。 ['汪 大 燮 内 阁 是 在 1930 年 10 月 18 日 至 1932 年 10 月 10 日 期 间 于 奉 天 行 政 区 域 设 立 的 内 阁 ， 成 立 于 民 国 11 年 （ 1922 年 ） 12 月 13 日 ， 结 束 于 同 年 12 月 24 日 。 汪 大 燮 内 阁 是 由 民 国 元 年 （ 1919\"}]\n"
          ]
        },
        {
          "output_type": "stream",
          "name": "stderr",
          "text": [
            "Setting `pad_token_id` to `eos_token_id`:50256 for open-end generation.\n"
          ]
        },
        {
          "output_type": "stream",
          "name": "stdout",
          "text": [
            "Checkpoint: 43000 output: [{'generated_text': \"江苏路街道在上海市的什么地方？ 答 ： 苏 州 吴 县 。 ['苏 州 高 新 技 术 产 业 开 发 区 （ 简 称 苏 州 高 新 区 ） 位 于 苏 州 高 新 区 的 中 部 ， 处 于 高 新 技 术 产 业 开 发 区 与 上 海 市 对 接 交 流 的 桥 头 堡 和 苏 州 高 新 区 发 展 平 台 。 总 面 积 123 平 方 公 里 。 苏 州\"}]\n"
          ]
        },
        {
          "output_type": "stream",
          "name": "stderr",
          "text": [
            "Setting `pad_token_id` to `eos_token_id`:50256 for open-end generation.\n"
          ]
        },
        {
          "output_type": "stream",
          "name": "stdout",
          "text": [
            "Checkpoint: 43500 output: [{'generated_text': \"江苏路街道在上海市的什么地方？ 答 ： 上 海 市 浦 东 新 区 南 汇 新 城 镇 第 八 区 。 ['上 海 市 浦 东 新 区 政 府 参 赞 委 员 会 ， 俗 称 旧 上 海 法 庭 ， 是 中 华 人 民 共 和 国 初 期 在 本 市 设 立 的 一 个 法 官 组 织 。 1982 年 9 月 ， 上 海 市 人 民 政 府 参 赞 委 员 会 成 立\"}]\n"
          ]
        },
        {
          "output_type": "stream",
          "name": "stderr",
          "text": [
            "Setting `pad_token_id` to `eos_token_id`:50256 for open-end generation.\n"
          ]
        },
        {
          "output_type": "stream",
          "name": "stdout",
          "text": [
            "Checkpoint: 44000 output: [{'generated_text': \"江苏路街道在上海市的什么地方？ 答 ： 第 三 市 。 ['苏 豪 区 （ ） 是 香 港 香 港 岛 的 一 个 区 域 名 称 ， 本 区 位 于 红 磡 以 北 ， 大 河 道 以 北 ， 在 新 界 区 东 区 的 红 磡 及 道 街 交 界 。 苏 豪 区 的 范 围 大 致 包 括 上 环 德 辅 道 中 、 明 德 街 、 干 诺 道 中 、 红\"}]\n"
          ]
        },
        {
          "output_type": "stream",
          "name": "stderr",
          "text": [
            "Setting `pad_token_id` to `eos_token_id`:50256 for open-end generation.\n"
          ]
        },
        {
          "output_type": "stream",
          "name": "stdout",
          "text": [
            "Checkpoint: 44500 output: [{'generated_text': \"江苏路街道在上海市的什么地方？ 答 ： 上 海 市 静 安 区 。 ['东 方 园 林 是 中 国 浙 江 省 温 州 市 最 著 名 的 古 建 筑 之 一 ， 位 于 该 市 中 心 地 带 ， 现 建 有 中 国 国 民 党 政 府 的 档 案 馆 和 西 校 区 ， 是 目 前 市 级 文 物 保 护 单 位 。 东 方 园 林 是 温 州 市 80 至 90\"}]\n"
          ]
        },
        {
          "output_type": "stream",
          "name": "stderr",
          "text": [
            "Setting `pad_token_id` to `eos_token_id`:50256 for open-end generation.\n"
          ]
        },
        {
          "output_type": "stream",
          "name": "stdout",
          "text": [
            "Checkpoint: 45000 output: [{'generated_text': \"江苏路街道在上海市的什么地方？ 答 ： 上 海 市 浦 东 新 区 万 达 广 场 。 ['万 科 城 （ ） 是 一 间 由 万 科 集 团 投 资 的 商 业 管 理 公 司 ， 由 美 国 芝 加 哥 建 筑 设 计 事 务 所 的 前 任 设 计 合 伙 人 于 2003 年 2 月 在 美 国 纽 约 成 立 ， 其 目 的 是 建 立\"}]\n"
          ]
        },
        {
          "output_type": "stream",
          "name": "stderr",
          "text": [
            "Setting `pad_token_id` to `eos_token_id`:50256 for open-end generation.\n"
          ]
        },
        {
          "output_type": "stream",
          "name": "stdout",
          "text": [
            "Checkpoint: 45500 output: [{'generated_text': \"江苏路街道在上海市的什么地方？ 答 ： 长 宁 区 。 ['湖 南 路 街 道 是 中 国 上 海 市 长 宁 区 下 辖 的 一 个 街 道 办 事 处 。 ， 位 于 长 宁 区 东 部 ， 东 到 长 宁 路 、 安 西 路 、 武 夷 路 接 邻 江 苏 路 街 道 ， 南 到 苏 州 河 接 邻 姑 娘 街 道 ， 东 到 昆 山 路 接 邻 苏 州 河\"}]\n"
          ]
        },
        {
          "output_type": "stream",
          "name": "stderr",
          "text": [
            "Setting `pad_token_id` to `eos_token_id`:50256 for open-end generation.\n"
          ]
        },
        {
          "output_type": "stream",
          "name": "stdout",
          "text": [
            "Checkpoint: 46000 output: [{'generated_text': \"江苏路街道在上海市的什么地方？ 答 ： 东 姑 区 。 ['上 海 市 人 民 政 府 政 务 院 参 事 室 ， 是 中 华 人 民 共 和 国 国 务 院 直 属 机 构 之 一 ， 于 1954 年 11 月 设 立 ， 负 责 上 海 市 参 事 工 作 ， 并 选 派 代 表 团 参 加 预 算 协 商 会 议 和 政 府 对 有 关 事 项 的 咨 询 。 1950\"}]\n"
          ]
        },
        {
          "output_type": "stream",
          "name": "stderr",
          "text": [
            "Setting `pad_token_id` to `eos_token_id`:50256 for open-end generation.\n"
          ]
        },
        {
          "output_type": "stream",
          "name": "stdout",
          "text": [
            "Checkpoint: 46500 output: [{'generated_text': \"江苏路街道在上海市的什么地方？ 答 ： 苏 州 湾 区 。 ['苏 州 高 新 技 术 产 业 开 发 区 ， 简 称 苏 州 高 新 区 或 苏 州 高 新 区 。 位 于 苏 南 地 区 中 部 ， 苏 州 东 部 ， 苏 州 高 新 区 的 核 心 位 置 ， 区 位 于 苏 州 东 部 ， 东 汉 时 改 吴 县 ， 郡 治 在 姑 苏 ， 三 国 属 吴\"}]\n"
          ]
        },
        {
          "output_type": "stream",
          "name": "stderr",
          "text": [
            "Setting `pad_token_id` to `eos_token_id`:50256 for open-end generation.\n"
          ]
        },
        {
          "output_type": "stream",
          "name": "stdout",
          "text": [
            "Checkpoint: 47000 output: [{'generated_text': '江苏路街道在上海市的什么地方？ 答 ： 宝 丰 路 、 长 宁 路 、 武 夷 路 毗 邻 上 海 嘉 定 康 乐 中 心 。 [\\'宝 通 路 站 ， 位 于 上 海 市 的 哪 一 地 区 ？ 答 ： 宝 山 区 嘉 定 康 乐 中 心 。 [ \" 宝 通 路 站 （ ） 是 位 于 上 海 市 的 哪 一 地 区 的 地 区 公 车 及 火 车 站 ？ 答 ：'}]\n"
          ]
        },
        {
          "output_type": "stream",
          "name": "stderr",
          "text": [
            "Setting `pad_token_id` to `eos_token_id`:50256 for open-end generation.\n"
          ]
        },
        {
          "output_type": "stream",
          "name": "stdout",
          "text": [
            "Checkpoint: 47500 output: [{'generated_text': \"江苏路街道在上海市的什么地方？ 答 ： 上 海 市 浦 东 新 区 。 ['闵 浦 大 街 是 上 海 市 浦 东 新 区 的 一 条 街 道 。 闵 浦 大 街 是 吴 江 区 最 著 名 的 商 业 街 ， 是 吴 江 区 的 中 心 地 域 之 一 。 上 海 古 城 西 到 天 平 路 ， 东 到 陕 西 南 路 ， 南 临 复 兴 中 路 ， 全 长 820\"}]\n"
          ]
        },
        {
          "output_type": "stream",
          "name": "stderr",
          "text": [
            "Setting `pad_token_id` to `eos_token_id`:50256 for open-end generation.\n"
          ]
        },
        {
          "output_type": "stream",
          "name": "stdout",
          "text": [
            "Checkpoint: 48000 output: [{'generated_text': \"江苏路街道在上海市的什么地方？ 答 ： 长 宁 区 。 ['沪 宁 铁 路 是 中 国 一 条 连 接 上 海 与 杭 州 的 铁 路 。 原 名 西 渡 铁 路 ， 于 1909 年 2 月 19 日 开 工 ， 经 广 州 至 北 京 ， 历 时 四 年 通 车 ， 是 中 国 国 营 铁 路 之 一 。 沪 宁 城 际 铁 路 该 段 于 1914 年 建 成 通 车 ，\"}]\n"
          ]
        },
        {
          "output_type": "stream",
          "name": "stderr",
          "text": [
            "Setting `pad_token_id` to `eos_token_id`:50256 for open-end generation.\n"
          ]
        },
        {
          "output_type": "stream",
          "name": "stdout",
          "text": [
            "Checkpoint: 48500 output: [{'generated_text': \"江苏路街道在上海市的什么地方？ 答 ： 苏 州 面 积 最 大 的 法 寄 食 品 集 中 区 。 ['苏 州 面 包 店 是 中 国 苏 州 面 包 店 的 一 种 ， 在 小 城 市 还 有 很 多 名 店 面 积 达 500 平 方 米 ， 公 司 设 在 苏 州 吴 中 区 上 海 市 浦 东 新 区 陆 家 嘴 ， 市 南 区 是 苏 州 高 新 区 的 高\"}]\n"
          ]
        },
        {
          "output_type": "stream",
          "name": "stderr",
          "text": [
            "Setting `pad_token_id` to `eos_token_id`:50256 for open-end generation.\n"
          ]
        },
        {
          "output_type": "stream",
          "name": "stdout",
          "text": [
            "Checkpoint: 49000 output: [{'generated_text': \"江苏路街道在上海市的什么地方？ 答 ： 中 山 公 园 的 南 侧 。 ['上 海 市 静 安 区 是 江 苏 省 静 安 区 下 辖 的 一 个 区 域 。 是 江 苏 省 的 第 二 大 商 业 区 ， 也 是 江 苏 省 最 大 的 服 装 城 ， 全 国 从 严 格 意 义 上 说 是 高 档 服 装 城 市 。 1992 年 被 中 华 人 民 共 和 国 国\"}]\n"
          ]
        },
        {
          "output_type": "stream",
          "name": "stderr",
          "text": [
            "Setting `pad_token_id` to `eos_token_id`:50256 for open-end generation.\n"
          ]
        },
        {
          "output_type": "stream",
          "name": "stdout",
          "text": [
            "Checkpoint: 49500 output: [{'generated_text': \"江苏路街道在上海市的什么地方？ 答 ： 人 民 路 、 延 安 中 路 、 武 夷 路 和 浦 东 新 区 陆 家 嘴 ， 以 及 上 海 东 昌 南 路 等 。 ['徐 汇 区 委 为 江 苏 省 国 家 级 经 济 技 术 开 发 区 ， 由 徐 汇 区 管 理 委 员 会 管 辖 ， 位 于 徐 汇 区 北 部 ， 东 以 陕 西 南 路 与 黄 浦 区 瑞\"}]\n"
          ]
        }
      ]
    },
    {
      "cell_type": "markdown",
      "source": [],
      "metadata": {
        "id": "xFrylEmGSii-"
      }
    },
    {
      "cell_type": "code",
      "source": [],
      "metadata": {
        "id": "C1ZFNRCCSiBY"
      },
      "execution_count": null,
      "outputs": []
    }
  ],
  "metadata": {
    "accelerator": "GPU",
    "colab": {
      "machine_shape": "hm",
      "provenance": []
    },
    "gpuClass": "standard",
    "kernelspec": {
      "display_name": "Python 3",
      "name": "python3"
    },
    "language_info": {
      "name": "python"
    },
    "widgets": {
      "application/vnd.jupyter.widget-state+json": {
        "2b44d5b0983d4a94ba1cc4edc30990af": {
          "model_module": "@jupyter-widgets/controls",
          "model_name": "HBoxModel",
          "model_module_version": "1.5.0",
          "state": {
            "_dom_classes": [],
            "_model_module": "@jupyter-widgets/controls",
            "_model_module_version": "1.5.0",
            "_model_name": "HBoxModel",
            "_view_count": null,
            "_view_module": "@jupyter-widgets/controls",
            "_view_module_version": "1.5.0",
            "_view_name": "HBoxView",
            "box_style": "",
            "children": [
              "IPY_MODEL_4a1e972681e2473f95553dc77e80be69",
              "IPY_MODEL_e60cd92a9e5b42ac81688b86b64b24e2",
              "IPY_MODEL_5a995b9efc7c43a3863f3fc1c353c08c"
            ],
            "layout": "IPY_MODEL_c5d4034bc5304958891f3aa767ef06cd"
          }
        },
        "4a1e972681e2473f95553dc77e80be69": {
          "model_module": "@jupyter-widgets/controls",
          "model_name": "HTMLModel",
          "model_module_version": "1.5.0",
          "state": {
            "_dom_classes": [],
            "_model_module": "@jupyter-widgets/controls",
            "_model_module_version": "1.5.0",
            "_model_name": "HTMLModel",
            "_view_count": null,
            "_view_module": "@jupyter-widgets/controls",
            "_view_module_version": "1.5.0",
            "_view_name": "HTMLView",
            "description": "",
            "description_tooltip": null,
            "layout": "IPY_MODEL_4400a495811b415c9dd889a55c35c671",
            "placeholder": "​",
            "style": "IPY_MODEL_67403f8bfe394c3aaa53c4295e8353b8",
            "value": "Downloading (…)solve/main/vocab.txt: 100%"
          }
        },
        "e60cd92a9e5b42ac81688b86b64b24e2": {
          "model_module": "@jupyter-widgets/controls",
          "model_name": "FloatProgressModel",
          "model_module_version": "1.5.0",
          "state": {
            "_dom_classes": [],
            "_model_module": "@jupyter-widgets/controls",
            "_model_module_version": "1.5.0",
            "_model_name": "FloatProgressModel",
            "_view_count": null,
            "_view_module": "@jupyter-widgets/controls",
            "_view_module_version": "1.5.0",
            "_view_name": "ProgressView",
            "bar_style": "success",
            "description": "",
            "description_tooltip": null,
            "layout": "IPY_MODEL_73265611a11a413096a91b6509087f6b",
            "max": 109540,
            "min": 0,
            "orientation": "horizontal",
            "style": "IPY_MODEL_7f1d1093b88a476a92ae632ba8238858",
            "value": 109540
          }
        },
        "5a995b9efc7c43a3863f3fc1c353c08c": {
          "model_module": "@jupyter-widgets/controls",
          "model_name": "HTMLModel",
          "model_module_version": "1.5.0",
          "state": {
            "_dom_classes": [],
            "_model_module": "@jupyter-widgets/controls",
            "_model_module_version": "1.5.0",
            "_model_name": "HTMLModel",
            "_view_count": null,
            "_view_module": "@jupyter-widgets/controls",
            "_view_module_version": "1.5.0",
            "_view_name": "HTMLView",
            "description": "",
            "description_tooltip": null,
            "layout": "IPY_MODEL_fe5612000147417e95767f71e67b90c1",
            "placeholder": "​",
            "style": "IPY_MODEL_8591f48c95a649779057445331ebd54c",
            "value": " 110k/110k [00:00&lt;00:00, 4.22MB/s]"
          }
        },
        "c5d4034bc5304958891f3aa767ef06cd": {
          "model_module": "@jupyter-widgets/base",
          "model_name": "LayoutModel",
          "model_module_version": "1.2.0",
          "state": {
            "_model_module": "@jupyter-widgets/base",
            "_model_module_version": "1.2.0",
            "_model_name": "LayoutModel",
            "_view_count": null,
            "_view_module": "@jupyter-widgets/base",
            "_view_module_version": "1.2.0",
            "_view_name": "LayoutView",
            "align_content": null,
            "align_items": null,
            "align_self": null,
            "border": null,
            "bottom": null,
            "display": null,
            "flex": null,
            "flex_flow": null,
            "grid_area": null,
            "grid_auto_columns": null,
            "grid_auto_flow": null,
            "grid_auto_rows": null,
            "grid_column": null,
            "grid_gap": null,
            "grid_row": null,
            "grid_template_areas": null,
            "grid_template_columns": null,
            "grid_template_rows": null,
            "height": null,
            "justify_content": null,
            "justify_items": null,
            "left": null,
            "margin": null,
            "max_height": null,
            "max_width": null,
            "min_height": null,
            "min_width": null,
            "object_fit": null,
            "object_position": null,
            "order": null,
            "overflow": null,
            "overflow_x": null,
            "overflow_y": null,
            "padding": null,
            "right": null,
            "top": null,
            "visibility": null,
            "width": null
          }
        },
        "4400a495811b415c9dd889a55c35c671": {
          "model_module": "@jupyter-widgets/base",
          "model_name": "LayoutModel",
          "model_module_version": "1.2.0",
          "state": {
            "_model_module": "@jupyter-widgets/base",
            "_model_module_version": "1.2.0",
            "_model_name": "LayoutModel",
            "_view_count": null,
            "_view_module": "@jupyter-widgets/base",
            "_view_module_version": "1.2.0",
            "_view_name": "LayoutView",
            "align_content": null,
            "align_items": null,
            "align_self": null,
            "border": null,
            "bottom": null,
            "display": null,
            "flex": null,
            "flex_flow": null,
            "grid_area": null,
            "grid_auto_columns": null,
            "grid_auto_flow": null,
            "grid_auto_rows": null,
            "grid_column": null,
            "grid_gap": null,
            "grid_row": null,
            "grid_template_areas": null,
            "grid_template_columns": null,
            "grid_template_rows": null,
            "height": null,
            "justify_content": null,
            "justify_items": null,
            "left": null,
            "margin": null,
            "max_height": null,
            "max_width": null,
            "min_height": null,
            "min_width": null,
            "object_fit": null,
            "object_position": null,
            "order": null,
            "overflow": null,
            "overflow_x": null,
            "overflow_y": null,
            "padding": null,
            "right": null,
            "top": null,
            "visibility": null,
            "width": null
          }
        },
        "67403f8bfe394c3aaa53c4295e8353b8": {
          "model_module": "@jupyter-widgets/controls",
          "model_name": "DescriptionStyleModel",
          "model_module_version": "1.5.0",
          "state": {
            "_model_module": "@jupyter-widgets/controls",
            "_model_module_version": "1.5.0",
            "_model_name": "DescriptionStyleModel",
            "_view_count": null,
            "_view_module": "@jupyter-widgets/base",
            "_view_module_version": "1.2.0",
            "_view_name": "StyleView",
            "description_width": ""
          }
        },
        "73265611a11a413096a91b6509087f6b": {
          "model_module": "@jupyter-widgets/base",
          "model_name": "LayoutModel",
          "model_module_version": "1.2.0",
          "state": {
            "_model_module": "@jupyter-widgets/base",
            "_model_module_version": "1.2.0",
            "_model_name": "LayoutModel",
            "_view_count": null,
            "_view_module": "@jupyter-widgets/base",
            "_view_module_version": "1.2.0",
            "_view_name": "LayoutView",
            "align_content": null,
            "align_items": null,
            "align_self": null,
            "border": null,
            "bottom": null,
            "display": null,
            "flex": null,
            "flex_flow": null,
            "grid_area": null,
            "grid_auto_columns": null,
            "grid_auto_flow": null,
            "grid_auto_rows": null,
            "grid_column": null,
            "grid_gap": null,
            "grid_row": null,
            "grid_template_areas": null,
            "grid_template_columns": null,
            "grid_template_rows": null,
            "height": null,
            "justify_content": null,
            "justify_items": null,
            "left": null,
            "margin": null,
            "max_height": null,
            "max_width": null,
            "min_height": null,
            "min_width": null,
            "object_fit": null,
            "object_position": null,
            "order": null,
            "overflow": null,
            "overflow_x": null,
            "overflow_y": null,
            "padding": null,
            "right": null,
            "top": null,
            "visibility": null,
            "width": null
          }
        },
        "7f1d1093b88a476a92ae632ba8238858": {
          "model_module": "@jupyter-widgets/controls",
          "model_name": "ProgressStyleModel",
          "model_module_version": "1.5.0",
          "state": {
            "_model_module": "@jupyter-widgets/controls",
            "_model_module_version": "1.5.0",
            "_model_name": "ProgressStyleModel",
            "_view_count": null,
            "_view_module": "@jupyter-widgets/base",
            "_view_module_version": "1.2.0",
            "_view_name": "StyleView",
            "bar_color": null,
            "description_width": ""
          }
        },
        "fe5612000147417e95767f71e67b90c1": {
          "model_module": "@jupyter-widgets/base",
          "model_name": "LayoutModel",
          "model_module_version": "1.2.0",
          "state": {
            "_model_module": "@jupyter-widgets/base",
            "_model_module_version": "1.2.0",
            "_model_name": "LayoutModel",
            "_view_count": null,
            "_view_module": "@jupyter-widgets/base",
            "_view_module_version": "1.2.0",
            "_view_name": "LayoutView",
            "align_content": null,
            "align_items": null,
            "align_self": null,
            "border": null,
            "bottom": null,
            "display": null,
            "flex": null,
            "flex_flow": null,
            "grid_area": null,
            "grid_auto_columns": null,
            "grid_auto_flow": null,
            "grid_auto_rows": null,
            "grid_column": null,
            "grid_gap": null,
            "grid_row": null,
            "grid_template_areas": null,
            "grid_template_columns": null,
            "grid_template_rows": null,
            "height": null,
            "justify_content": null,
            "justify_items": null,
            "left": null,
            "margin": null,
            "max_height": null,
            "max_width": null,
            "min_height": null,
            "min_width": null,
            "object_fit": null,
            "object_position": null,
            "order": null,
            "overflow": null,
            "overflow_x": null,
            "overflow_y": null,
            "padding": null,
            "right": null,
            "top": null,
            "visibility": null,
            "width": null
          }
        },
        "8591f48c95a649779057445331ebd54c": {
          "model_module": "@jupyter-widgets/controls",
          "model_name": "DescriptionStyleModel",
          "model_module_version": "1.5.0",
          "state": {
            "_model_module": "@jupyter-widgets/controls",
            "_model_module_version": "1.5.0",
            "_model_name": "DescriptionStyleModel",
            "_view_count": null,
            "_view_module": "@jupyter-widgets/base",
            "_view_module_version": "1.2.0",
            "_view_name": "StyleView",
            "description_width": ""
          }
        },
        "532cb039e98c481ba23eac6256f936b6": {
          "model_module": "@jupyter-widgets/controls",
          "model_name": "HBoxModel",
          "model_module_version": "1.5.0",
          "state": {
            "_dom_classes": [],
            "_model_module": "@jupyter-widgets/controls",
            "_model_module_version": "1.5.0",
            "_model_name": "HBoxModel",
            "_view_count": null,
            "_view_module": "@jupyter-widgets/controls",
            "_view_module_version": "1.5.0",
            "_view_name": "HBoxView",
            "box_style": "",
            "children": [
              "IPY_MODEL_10ca2afb466c431f9dcf488465b458e2",
              "IPY_MODEL_a4b28dedb640496bb4e6c03b50a6e60b",
              "IPY_MODEL_34c0fb57990042bcbe71411aeb47068d"
            ],
            "layout": "IPY_MODEL_97e8deb87872433b8b64885ebf708188"
          }
        },
        "10ca2afb466c431f9dcf488465b458e2": {
          "model_module": "@jupyter-widgets/controls",
          "model_name": "HTMLModel",
          "model_module_version": "1.5.0",
          "state": {
            "_dom_classes": [],
            "_model_module": "@jupyter-widgets/controls",
            "_model_module_version": "1.5.0",
            "_model_name": "HTMLModel",
            "_view_count": null,
            "_view_module": "@jupyter-widgets/controls",
            "_view_module_version": "1.5.0",
            "_view_name": "HTMLView",
            "description": "",
            "description_tooltip": null,
            "layout": "IPY_MODEL_7c26f8e11cd444bb8f300a7116b0fb21",
            "placeholder": "​",
            "style": "IPY_MODEL_62e075af4ef24df9aa978633421ef6f7",
            "value": "Downloading (…)cial_tokens_map.json: 100%"
          }
        },
        "a4b28dedb640496bb4e6c03b50a6e60b": {
          "model_module": "@jupyter-widgets/controls",
          "model_name": "FloatProgressModel",
          "model_module_version": "1.5.0",
          "state": {
            "_dom_classes": [],
            "_model_module": "@jupyter-widgets/controls",
            "_model_module_version": "1.5.0",
            "_model_name": "FloatProgressModel",
            "_view_count": null,
            "_view_module": "@jupyter-widgets/controls",
            "_view_module_version": "1.5.0",
            "_view_name": "ProgressView",
            "bar_style": "success",
            "description": "",
            "description_tooltip": null,
            "layout": "IPY_MODEL_6e24358bbeb240979d925021e3793765",
            "max": 112,
            "min": 0,
            "orientation": "horizontal",
            "style": "IPY_MODEL_8e4314ce81664dd8bae1f81dff47eea7",
            "value": 112
          }
        },
        "34c0fb57990042bcbe71411aeb47068d": {
          "model_module": "@jupyter-widgets/controls",
          "model_name": "HTMLModel",
          "model_module_version": "1.5.0",
          "state": {
            "_dom_classes": [],
            "_model_module": "@jupyter-widgets/controls",
            "_model_module_version": "1.5.0",
            "_model_name": "HTMLModel",
            "_view_count": null,
            "_view_module": "@jupyter-widgets/controls",
            "_view_module_version": "1.5.0",
            "_view_name": "HTMLView",
            "description": "",
            "description_tooltip": null,
            "layout": "IPY_MODEL_1ed8dfc845b24e259f3bb0f4750fbae0",
            "placeholder": "​",
            "style": "IPY_MODEL_1556a40a6c604bbc95dba928605c50c6",
            "value": " 112/112 [00:00&lt;00:00, 5.77kB/s]"
          }
        },
        "97e8deb87872433b8b64885ebf708188": {
          "model_module": "@jupyter-widgets/base",
          "model_name": "LayoutModel",
          "model_module_version": "1.2.0",
          "state": {
            "_model_module": "@jupyter-widgets/base",
            "_model_module_version": "1.2.0",
            "_model_name": "LayoutModel",
            "_view_count": null,
            "_view_module": "@jupyter-widgets/base",
            "_view_module_version": "1.2.0",
            "_view_name": "LayoutView",
            "align_content": null,
            "align_items": null,
            "align_self": null,
            "border": null,
            "bottom": null,
            "display": null,
            "flex": null,
            "flex_flow": null,
            "grid_area": null,
            "grid_auto_columns": null,
            "grid_auto_flow": null,
            "grid_auto_rows": null,
            "grid_column": null,
            "grid_gap": null,
            "grid_row": null,
            "grid_template_areas": null,
            "grid_template_columns": null,
            "grid_template_rows": null,
            "height": null,
            "justify_content": null,
            "justify_items": null,
            "left": null,
            "margin": null,
            "max_height": null,
            "max_width": null,
            "min_height": null,
            "min_width": null,
            "object_fit": null,
            "object_position": null,
            "order": null,
            "overflow": null,
            "overflow_x": null,
            "overflow_y": null,
            "padding": null,
            "right": null,
            "top": null,
            "visibility": null,
            "width": null
          }
        },
        "7c26f8e11cd444bb8f300a7116b0fb21": {
          "model_module": "@jupyter-widgets/base",
          "model_name": "LayoutModel",
          "model_module_version": "1.2.0",
          "state": {
            "_model_module": "@jupyter-widgets/base",
            "_model_module_version": "1.2.0",
            "_model_name": "LayoutModel",
            "_view_count": null,
            "_view_module": "@jupyter-widgets/base",
            "_view_module_version": "1.2.0",
            "_view_name": "LayoutView",
            "align_content": null,
            "align_items": null,
            "align_self": null,
            "border": null,
            "bottom": null,
            "display": null,
            "flex": null,
            "flex_flow": null,
            "grid_area": null,
            "grid_auto_columns": null,
            "grid_auto_flow": null,
            "grid_auto_rows": null,
            "grid_column": null,
            "grid_gap": null,
            "grid_row": null,
            "grid_template_areas": null,
            "grid_template_columns": null,
            "grid_template_rows": null,
            "height": null,
            "justify_content": null,
            "justify_items": null,
            "left": null,
            "margin": null,
            "max_height": null,
            "max_width": null,
            "min_height": null,
            "min_width": null,
            "object_fit": null,
            "object_position": null,
            "order": null,
            "overflow": null,
            "overflow_x": null,
            "overflow_y": null,
            "padding": null,
            "right": null,
            "top": null,
            "visibility": null,
            "width": null
          }
        },
        "62e075af4ef24df9aa978633421ef6f7": {
          "model_module": "@jupyter-widgets/controls",
          "model_name": "DescriptionStyleModel",
          "model_module_version": "1.5.0",
          "state": {
            "_model_module": "@jupyter-widgets/controls",
            "_model_module_version": "1.5.0",
            "_model_name": "DescriptionStyleModel",
            "_view_count": null,
            "_view_module": "@jupyter-widgets/base",
            "_view_module_version": "1.2.0",
            "_view_name": "StyleView",
            "description_width": ""
          }
        },
        "6e24358bbeb240979d925021e3793765": {
          "model_module": "@jupyter-widgets/base",
          "model_name": "LayoutModel",
          "model_module_version": "1.2.0",
          "state": {
            "_model_module": "@jupyter-widgets/base",
            "_model_module_version": "1.2.0",
            "_model_name": "LayoutModel",
            "_view_count": null,
            "_view_module": "@jupyter-widgets/base",
            "_view_module_version": "1.2.0",
            "_view_name": "LayoutView",
            "align_content": null,
            "align_items": null,
            "align_self": null,
            "border": null,
            "bottom": null,
            "display": null,
            "flex": null,
            "flex_flow": null,
            "grid_area": null,
            "grid_auto_columns": null,
            "grid_auto_flow": null,
            "grid_auto_rows": null,
            "grid_column": null,
            "grid_gap": null,
            "grid_row": null,
            "grid_template_areas": null,
            "grid_template_columns": null,
            "grid_template_rows": null,
            "height": null,
            "justify_content": null,
            "justify_items": null,
            "left": null,
            "margin": null,
            "max_height": null,
            "max_width": null,
            "min_height": null,
            "min_width": null,
            "object_fit": null,
            "object_position": null,
            "order": null,
            "overflow": null,
            "overflow_x": null,
            "overflow_y": null,
            "padding": null,
            "right": null,
            "top": null,
            "visibility": null,
            "width": null
          }
        },
        "8e4314ce81664dd8bae1f81dff47eea7": {
          "model_module": "@jupyter-widgets/controls",
          "model_name": "ProgressStyleModel",
          "model_module_version": "1.5.0",
          "state": {
            "_model_module": "@jupyter-widgets/controls",
            "_model_module_version": "1.5.0",
            "_model_name": "ProgressStyleModel",
            "_view_count": null,
            "_view_module": "@jupyter-widgets/base",
            "_view_module_version": "1.2.0",
            "_view_name": "StyleView",
            "bar_color": null,
            "description_width": ""
          }
        },
        "1ed8dfc845b24e259f3bb0f4750fbae0": {
          "model_module": "@jupyter-widgets/base",
          "model_name": "LayoutModel",
          "model_module_version": "1.2.0",
          "state": {
            "_model_module": "@jupyter-widgets/base",
            "_model_module_version": "1.2.0",
            "_model_name": "LayoutModel",
            "_view_count": null,
            "_view_module": "@jupyter-widgets/base",
            "_view_module_version": "1.2.0",
            "_view_name": "LayoutView",
            "align_content": null,
            "align_items": null,
            "align_self": null,
            "border": null,
            "bottom": null,
            "display": null,
            "flex": null,
            "flex_flow": null,
            "grid_area": null,
            "grid_auto_columns": null,
            "grid_auto_flow": null,
            "grid_auto_rows": null,
            "grid_column": null,
            "grid_gap": null,
            "grid_row": null,
            "grid_template_areas": null,
            "grid_template_columns": null,
            "grid_template_rows": null,
            "height": null,
            "justify_content": null,
            "justify_items": null,
            "left": null,
            "margin": null,
            "max_height": null,
            "max_width": null,
            "min_height": null,
            "min_width": null,
            "object_fit": null,
            "object_position": null,
            "order": null,
            "overflow": null,
            "overflow_x": null,
            "overflow_y": null,
            "padding": null,
            "right": null,
            "top": null,
            "visibility": null,
            "width": null
          }
        },
        "1556a40a6c604bbc95dba928605c50c6": {
          "model_module": "@jupyter-widgets/controls",
          "model_name": "DescriptionStyleModel",
          "model_module_version": "1.5.0",
          "state": {
            "_model_module": "@jupyter-widgets/controls",
            "_model_module_version": "1.5.0",
            "_model_name": "DescriptionStyleModel",
            "_view_count": null,
            "_view_module": "@jupyter-widgets/base",
            "_view_module_version": "1.2.0",
            "_view_name": "StyleView",
            "description_width": ""
          }
        },
        "1d15e9e1b93b4b63abb34e8533964454": {
          "model_module": "@jupyter-widgets/controls",
          "model_name": "HBoxModel",
          "model_module_version": "1.5.0",
          "state": {
            "_dom_classes": [],
            "_model_module": "@jupyter-widgets/controls",
            "_model_module_version": "1.5.0",
            "_model_name": "HBoxModel",
            "_view_count": null,
            "_view_module": "@jupyter-widgets/controls",
            "_view_module_version": "1.5.0",
            "_view_name": "HBoxView",
            "box_style": "",
            "children": [
              "IPY_MODEL_62dd90e1f78048cc8ab356e2b9ebe5b6",
              "IPY_MODEL_6374efb885d947bf99fc6b96ea7523f9",
              "IPY_MODEL_3252b82f0b0a4ee8bcdf4983077e69c0"
            ],
            "layout": "IPY_MODEL_36a5355d4ced499ca886b73a906d545c"
          }
        },
        "62dd90e1f78048cc8ab356e2b9ebe5b6": {
          "model_module": "@jupyter-widgets/controls",
          "model_name": "HTMLModel",
          "model_module_version": "1.5.0",
          "state": {
            "_dom_classes": [],
            "_model_module": "@jupyter-widgets/controls",
            "_model_module_version": "1.5.0",
            "_model_name": "HTMLModel",
            "_view_count": null,
            "_view_module": "@jupyter-widgets/controls",
            "_view_module_version": "1.5.0",
            "_view_name": "HTMLView",
            "description": "",
            "description_tooltip": null,
            "layout": "IPY_MODEL_c4056e62f8114918b527788ba2420122",
            "placeholder": "​",
            "style": "IPY_MODEL_c20cd75558a04fba8ca5aa4a533c6577",
            "value": "Downloading (…)okenizer_config.json: 100%"
          }
        },
        "6374efb885d947bf99fc6b96ea7523f9": {
          "model_module": "@jupyter-widgets/controls",
          "model_name": "FloatProgressModel",
          "model_module_version": "1.5.0",
          "state": {
            "_dom_classes": [],
            "_model_module": "@jupyter-widgets/controls",
            "_model_module_version": "1.5.0",
            "_model_name": "FloatProgressModel",
            "_view_count": null,
            "_view_module": "@jupyter-widgets/controls",
            "_view_module_version": "1.5.0",
            "_view_name": "ProgressView",
            "bar_style": "success",
            "description": "",
            "description_tooltip": null,
            "layout": "IPY_MODEL_198ebd471b194db992613abad4abddab",
            "max": 217,
            "min": 0,
            "orientation": "horizontal",
            "style": "IPY_MODEL_30671025776841a3858a3eb193e8384b",
            "value": 217
          }
        },
        "3252b82f0b0a4ee8bcdf4983077e69c0": {
          "model_module": "@jupyter-widgets/controls",
          "model_name": "HTMLModel",
          "model_module_version": "1.5.0",
          "state": {
            "_dom_classes": [],
            "_model_module": "@jupyter-widgets/controls",
            "_model_module_version": "1.5.0",
            "_model_name": "HTMLModel",
            "_view_count": null,
            "_view_module": "@jupyter-widgets/controls",
            "_view_module_version": "1.5.0",
            "_view_name": "HTMLView",
            "description": "",
            "description_tooltip": null,
            "layout": "IPY_MODEL_2ea3cbccc11b41da8664772fce353607",
            "placeholder": "​",
            "style": "IPY_MODEL_075beb35df4e4b64a2249f7cb99fa95e",
            "value": " 217/217 [00:00&lt;00:00, 14.1kB/s]"
          }
        },
        "36a5355d4ced499ca886b73a906d545c": {
          "model_module": "@jupyter-widgets/base",
          "model_name": "LayoutModel",
          "model_module_version": "1.2.0",
          "state": {
            "_model_module": "@jupyter-widgets/base",
            "_model_module_version": "1.2.0",
            "_model_name": "LayoutModel",
            "_view_count": null,
            "_view_module": "@jupyter-widgets/base",
            "_view_module_version": "1.2.0",
            "_view_name": "LayoutView",
            "align_content": null,
            "align_items": null,
            "align_self": null,
            "border": null,
            "bottom": null,
            "display": null,
            "flex": null,
            "flex_flow": null,
            "grid_area": null,
            "grid_auto_columns": null,
            "grid_auto_flow": null,
            "grid_auto_rows": null,
            "grid_column": null,
            "grid_gap": null,
            "grid_row": null,
            "grid_template_areas": null,
            "grid_template_columns": null,
            "grid_template_rows": null,
            "height": null,
            "justify_content": null,
            "justify_items": null,
            "left": null,
            "margin": null,
            "max_height": null,
            "max_width": null,
            "min_height": null,
            "min_width": null,
            "object_fit": null,
            "object_position": null,
            "order": null,
            "overflow": null,
            "overflow_x": null,
            "overflow_y": null,
            "padding": null,
            "right": null,
            "top": null,
            "visibility": null,
            "width": null
          }
        },
        "c4056e62f8114918b527788ba2420122": {
          "model_module": "@jupyter-widgets/base",
          "model_name": "LayoutModel",
          "model_module_version": "1.2.0",
          "state": {
            "_model_module": "@jupyter-widgets/base",
            "_model_module_version": "1.2.0",
            "_model_name": "LayoutModel",
            "_view_count": null,
            "_view_module": "@jupyter-widgets/base",
            "_view_module_version": "1.2.0",
            "_view_name": "LayoutView",
            "align_content": null,
            "align_items": null,
            "align_self": null,
            "border": null,
            "bottom": null,
            "display": null,
            "flex": null,
            "flex_flow": null,
            "grid_area": null,
            "grid_auto_columns": null,
            "grid_auto_flow": null,
            "grid_auto_rows": null,
            "grid_column": null,
            "grid_gap": null,
            "grid_row": null,
            "grid_template_areas": null,
            "grid_template_columns": null,
            "grid_template_rows": null,
            "height": null,
            "justify_content": null,
            "justify_items": null,
            "left": null,
            "margin": null,
            "max_height": null,
            "max_width": null,
            "min_height": null,
            "min_width": null,
            "object_fit": null,
            "object_position": null,
            "order": null,
            "overflow": null,
            "overflow_x": null,
            "overflow_y": null,
            "padding": null,
            "right": null,
            "top": null,
            "visibility": null,
            "width": null
          }
        },
        "c20cd75558a04fba8ca5aa4a533c6577": {
          "model_module": "@jupyter-widgets/controls",
          "model_name": "DescriptionStyleModel",
          "model_module_version": "1.5.0",
          "state": {
            "_model_module": "@jupyter-widgets/controls",
            "_model_module_version": "1.5.0",
            "_model_name": "DescriptionStyleModel",
            "_view_count": null,
            "_view_module": "@jupyter-widgets/base",
            "_view_module_version": "1.2.0",
            "_view_name": "StyleView",
            "description_width": ""
          }
        },
        "198ebd471b194db992613abad4abddab": {
          "model_module": "@jupyter-widgets/base",
          "model_name": "LayoutModel",
          "model_module_version": "1.2.0",
          "state": {
            "_model_module": "@jupyter-widgets/base",
            "_model_module_version": "1.2.0",
            "_model_name": "LayoutModel",
            "_view_count": null,
            "_view_module": "@jupyter-widgets/base",
            "_view_module_version": "1.2.0",
            "_view_name": "LayoutView",
            "align_content": null,
            "align_items": null,
            "align_self": null,
            "border": null,
            "bottom": null,
            "display": null,
            "flex": null,
            "flex_flow": null,
            "grid_area": null,
            "grid_auto_columns": null,
            "grid_auto_flow": null,
            "grid_auto_rows": null,
            "grid_column": null,
            "grid_gap": null,
            "grid_row": null,
            "grid_template_areas": null,
            "grid_template_columns": null,
            "grid_template_rows": null,
            "height": null,
            "justify_content": null,
            "justify_items": null,
            "left": null,
            "margin": null,
            "max_height": null,
            "max_width": null,
            "min_height": null,
            "min_width": null,
            "object_fit": null,
            "object_position": null,
            "order": null,
            "overflow": null,
            "overflow_x": null,
            "overflow_y": null,
            "padding": null,
            "right": null,
            "top": null,
            "visibility": null,
            "width": null
          }
        },
        "30671025776841a3858a3eb193e8384b": {
          "model_module": "@jupyter-widgets/controls",
          "model_name": "ProgressStyleModel",
          "model_module_version": "1.5.0",
          "state": {
            "_model_module": "@jupyter-widgets/controls",
            "_model_module_version": "1.5.0",
            "_model_name": "ProgressStyleModel",
            "_view_count": null,
            "_view_module": "@jupyter-widgets/base",
            "_view_module_version": "1.2.0",
            "_view_name": "StyleView",
            "bar_color": null,
            "description_width": ""
          }
        },
        "2ea3cbccc11b41da8664772fce353607": {
          "model_module": "@jupyter-widgets/base",
          "model_name": "LayoutModel",
          "model_module_version": "1.2.0",
          "state": {
            "_model_module": "@jupyter-widgets/base",
            "_model_module_version": "1.2.0",
            "_model_name": "LayoutModel",
            "_view_count": null,
            "_view_module": "@jupyter-widgets/base",
            "_view_module_version": "1.2.0",
            "_view_name": "LayoutView",
            "align_content": null,
            "align_items": null,
            "align_self": null,
            "border": null,
            "bottom": null,
            "display": null,
            "flex": null,
            "flex_flow": null,
            "grid_area": null,
            "grid_auto_columns": null,
            "grid_auto_flow": null,
            "grid_auto_rows": null,
            "grid_column": null,
            "grid_gap": null,
            "grid_row": null,
            "grid_template_areas": null,
            "grid_template_columns": null,
            "grid_template_rows": null,
            "height": null,
            "justify_content": null,
            "justify_items": null,
            "left": null,
            "margin": null,
            "max_height": null,
            "max_width": null,
            "min_height": null,
            "min_width": null,
            "object_fit": null,
            "object_position": null,
            "order": null,
            "overflow": null,
            "overflow_x": null,
            "overflow_y": null,
            "padding": null,
            "right": null,
            "top": null,
            "visibility": null,
            "width": null
          }
        },
        "075beb35df4e4b64a2249f7cb99fa95e": {
          "model_module": "@jupyter-widgets/controls",
          "model_name": "DescriptionStyleModel",
          "model_module_version": "1.5.0",
          "state": {
            "_model_module": "@jupyter-widgets/controls",
            "_model_module_version": "1.5.0",
            "_model_name": "DescriptionStyleModel",
            "_view_count": null,
            "_view_module": "@jupyter-widgets/base",
            "_view_module_version": "1.2.0",
            "_view_name": "StyleView",
            "description_width": ""
          }
        },
        "70a3253a3afd49d1b42e6682b2afd1c4": {
          "model_module": "@jupyter-widgets/controls",
          "model_name": "HBoxModel",
          "model_module_version": "1.5.0",
          "state": {
            "_dom_classes": [],
            "_model_module": "@jupyter-widgets/controls",
            "_model_module_version": "1.5.0",
            "_model_name": "HBoxModel",
            "_view_count": null,
            "_view_module": "@jupyter-widgets/controls",
            "_view_module_version": "1.5.0",
            "_view_name": "HBoxView",
            "box_style": "",
            "children": [
              "IPY_MODEL_694fbebae7a74d1198d8ca28428042b2",
              "IPY_MODEL_98c6099c39314926836b7551978e2873",
              "IPY_MODEL_fd641acc8f5f49ba9641fe8dda10d949"
            ],
            "layout": "IPY_MODEL_fcc5bcb696fb4054b77ffe78c047e0ab"
          }
        },
        "694fbebae7a74d1198d8ca28428042b2": {
          "model_module": "@jupyter-widgets/controls",
          "model_name": "HTMLModel",
          "model_module_version": "1.5.0",
          "state": {
            "_dom_classes": [],
            "_model_module": "@jupyter-widgets/controls",
            "_model_module_version": "1.5.0",
            "_model_name": "HTMLModel",
            "_view_count": null,
            "_view_module": "@jupyter-widgets/controls",
            "_view_module_version": "1.5.0",
            "_view_name": "HTMLView",
            "description": "",
            "description_tooltip": null,
            "layout": "IPY_MODEL_54786d1713cf4b5d8834b0ac75ffe117",
            "placeholder": "​",
            "style": "IPY_MODEL_0473501737e04587bc58588be2555c33",
            "value": "Downloading (…)lve/main/config.json: 100%"
          }
        },
        "98c6099c39314926836b7551978e2873": {
          "model_module": "@jupyter-widgets/controls",
          "model_name": "FloatProgressModel",
          "model_module_version": "1.5.0",
          "state": {
            "_dom_classes": [],
            "_model_module": "@jupyter-widgets/controls",
            "_model_module_version": "1.5.0",
            "_model_name": "FloatProgressModel",
            "_view_count": null,
            "_view_module": "@jupyter-widgets/controls",
            "_view_module_version": "1.5.0",
            "_view_name": "ProgressView",
            "bar_style": "success",
            "description": "",
            "description_tooltip": null,
            "layout": "IPY_MODEL_4aaca0cc13d7403f98898339e2728632",
            "max": 577,
            "min": 0,
            "orientation": "horizontal",
            "style": "IPY_MODEL_62c6b96941904122b10607e03b562419",
            "value": 577
          }
        },
        "fd641acc8f5f49ba9641fe8dda10d949": {
          "model_module": "@jupyter-widgets/controls",
          "model_name": "HTMLModel",
          "model_module_version": "1.5.0",
          "state": {
            "_dom_classes": [],
            "_model_module": "@jupyter-widgets/controls",
            "_model_module_version": "1.5.0",
            "_model_name": "HTMLModel",
            "_view_count": null,
            "_view_module": "@jupyter-widgets/controls",
            "_view_module_version": "1.5.0",
            "_view_name": "HTMLView",
            "description": "",
            "description_tooltip": null,
            "layout": "IPY_MODEL_03211623247c41ad94e989f30a157320",
            "placeholder": "​",
            "style": "IPY_MODEL_62efee9f18d545e8b9b33665140c2287",
            "value": " 577/577 [00:00&lt;00:00, 32.5kB/s]"
          }
        },
        "fcc5bcb696fb4054b77ffe78c047e0ab": {
          "model_module": "@jupyter-widgets/base",
          "model_name": "LayoutModel",
          "model_module_version": "1.2.0",
          "state": {
            "_model_module": "@jupyter-widgets/base",
            "_model_module_version": "1.2.0",
            "_model_name": "LayoutModel",
            "_view_count": null,
            "_view_module": "@jupyter-widgets/base",
            "_view_module_version": "1.2.0",
            "_view_name": "LayoutView",
            "align_content": null,
            "align_items": null,
            "align_self": null,
            "border": null,
            "bottom": null,
            "display": null,
            "flex": null,
            "flex_flow": null,
            "grid_area": null,
            "grid_auto_columns": null,
            "grid_auto_flow": null,
            "grid_auto_rows": null,
            "grid_column": null,
            "grid_gap": null,
            "grid_row": null,
            "grid_template_areas": null,
            "grid_template_columns": null,
            "grid_template_rows": null,
            "height": null,
            "justify_content": null,
            "justify_items": null,
            "left": null,
            "margin": null,
            "max_height": null,
            "max_width": null,
            "min_height": null,
            "min_width": null,
            "object_fit": null,
            "object_position": null,
            "order": null,
            "overflow": null,
            "overflow_x": null,
            "overflow_y": null,
            "padding": null,
            "right": null,
            "top": null,
            "visibility": null,
            "width": null
          }
        },
        "54786d1713cf4b5d8834b0ac75ffe117": {
          "model_module": "@jupyter-widgets/base",
          "model_name": "LayoutModel",
          "model_module_version": "1.2.0",
          "state": {
            "_model_module": "@jupyter-widgets/base",
            "_model_module_version": "1.2.0",
            "_model_name": "LayoutModel",
            "_view_count": null,
            "_view_module": "@jupyter-widgets/base",
            "_view_module_version": "1.2.0",
            "_view_name": "LayoutView",
            "align_content": null,
            "align_items": null,
            "align_self": null,
            "border": null,
            "bottom": null,
            "display": null,
            "flex": null,
            "flex_flow": null,
            "grid_area": null,
            "grid_auto_columns": null,
            "grid_auto_flow": null,
            "grid_auto_rows": null,
            "grid_column": null,
            "grid_gap": null,
            "grid_row": null,
            "grid_template_areas": null,
            "grid_template_columns": null,
            "grid_template_rows": null,
            "height": null,
            "justify_content": null,
            "justify_items": null,
            "left": null,
            "margin": null,
            "max_height": null,
            "max_width": null,
            "min_height": null,
            "min_width": null,
            "object_fit": null,
            "object_position": null,
            "order": null,
            "overflow": null,
            "overflow_x": null,
            "overflow_y": null,
            "padding": null,
            "right": null,
            "top": null,
            "visibility": null,
            "width": null
          }
        },
        "0473501737e04587bc58588be2555c33": {
          "model_module": "@jupyter-widgets/controls",
          "model_name": "DescriptionStyleModel",
          "model_module_version": "1.5.0",
          "state": {
            "_model_module": "@jupyter-widgets/controls",
            "_model_module_version": "1.5.0",
            "_model_name": "DescriptionStyleModel",
            "_view_count": null,
            "_view_module": "@jupyter-widgets/base",
            "_view_module_version": "1.2.0",
            "_view_name": "StyleView",
            "description_width": ""
          }
        },
        "4aaca0cc13d7403f98898339e2728632": {
          "model_module": "@jupyter-widgets/base",
          "model_name": "LayoutModel",
          "model_module_version": "1.2.0",
          "state": {
            "_model_module": "@jupyter-widgets/base",
            "_model_module_version": "1.2.0",
            "_model_name": "LayoutModel",
            "_view_count": null,
            "_view_module": "@jupyter-widgets/base",
            "_view_module_version": "1.2.0",
            "_view_name": "LayoutView",
            "align_content": null,
            "align_items": null,
            "align_self": null,
            "border": null,
            "bottom": null,
            "display": null,
            "flex": null,
            "flex_flow": null,
            "grid_area": null,
            "grid_auto_columns": null,
            "grid_auto_flow": null,
            "grid_auto_rows": null,
            "grid_column": null,
            "grid_gap": null,
            "grid_row": null,
            "grid_template_areas": null,
            "grid_template_columns": null,
            "grid_template_rows": null,
            "height": null,
            "justify_content": null,
            "justify_items": null,
            "left": null,
            "margin": null,
            "max_height": null,
            "max_width": null,
            "min_height": null,
            "min_width": null,
            "object_fit": null,
            "object_position": null,
            "order": null,
            "overflow": null,
            "overflow_x": null,
            "overflow_y": null,
            "padding": null,
            "right": null,
            "top": null,
            "visibility": null,
            "width": null
          }
        },
        "62c6b96941904122b10607e03b562419": {
          "model_module": "@jupyter-widgets/controls",
          "model_name": "ProgressStyleModel",
          "model_module_version": "1.5.0",
          "state": {
            "_model_module": "@jupyter-widgets/controls",
            "_model_module_version": "1.5.0",
            "_model_name": "ProgressStyleModel",
            "_view_count": null,
            "_view_module": "@jupyter-widgets/base",
            "_view_module_version": "1.2.0",
            "_view_name": "StyleView",
            "bar_color": null,
            "description_width": ""
          }
        },
        "03211623247c41ad94e989f30a157320": {
          "model_module": "@jupyter-widgets/base",
          "model_name": "LayoutModel",
          "model_module_version": "1.2.0",
          "state": {
            "_model_module": "@jupyter-widgets/base",
            "_model_module_version": "1.2.0",
            "_model_name": "LayoutModel",
            "_view_count": null,
            "_view_module": "@jupyter-widgets/base",
            "_view_module_version": "1.2.0",
            "_view_name": "LayoutView",
            "align_content": null,
            "align_items": null,
            "align_self": null,
            "border": null,
            "bottom": null,
            "display": null,
            "flex": null,
            "flex_flow": null,
            "grid_area": null,
            "grid_auto_columns": null,
            "grid_auto_flow": null,
            "grid_auto_rows": null,
            "grid_column": null,
            "grid_gap": null,
            "grid_row": null,
            "grid_template_areas": null,
            "grid_template_columns": null,
            "grid_template_rows": null,
            "height": null,
            "justify_content": null,
            "justify_items": null,
            "left": null,
            "margin": null,
            "max_height": null,
            "max_width": null,
            "min_height": null,
            "min_width": null,
            "object_fit": null,
            "object_position": null,
            "order": null,
            "overflow": null,
            "overflow_x": null,
            "overflow_y": null,
            "padding": null,
            "right": null,
            "top": null,
            "visibility": null,
            "width": null
          }
        },
        "62efee9f18d545e8b9b33665140c2287": {
          "model_module": "@jupyter-widgets/controls",
          "model_name": "DescriptionStyleModel",
          "model_module_version": "1.5.0",
          "state": {
            "_model_module": "@jupyter-widgets/controls",
            "_model_module_version": "1.5.0",
            "_model_name": "DescriptionStyleModel",
            "_view_count": null,
            "_view_module": "@jupyter-widgets/base",
            "_view_module_version": "1.2.0",
            "_view_name": "StyleView",
            "description_width": ""
          }
        },
        "7585393416284388839045f9ba00364e": {
          "model_module": "@jupyter-widgets/controls",
          "model_name": "HBoxModel",
          "model_module_version": "1.5.0",
          "state": {
            "_dom_classes": [],
            "_model_module": "@jupyter-widgets/controls",
            "_model_module_version": "1.5.0",
            "_model_name": "HBoxModel",
            "_view_count": null,
            "_view_module": "@jupyter-widgets/controls",
            "_view_module_version": "1.5.0",
            "_view_name": "HBoxView",
            "box_style": "",
            "children": [
              "IPY_MODEL_7d91394f4db4404d98b939a49d224c9f",
              "IPY_MODEL_0b37d049c9394706a7b500ae57b1c5fa",
              "IPY_MODEL_33b21ea39c4447a4b584c40510ff9eb7"
            ],
            "layout": "IPY_MODEL_20c830fe2c5041718628393e4afdf9fd"
          }
        },
        "7d91394f4db4404d98b939a49d224c9f": {
          "model_module": "@jupyter-widgets/controls",
          "model_name": "HTMLModel",
          "model_module_version": "1.5.0",
          "state": {
            "_dom_classes": [],
            "_model_module": "@jupyter-widgets/controls",
            "_model_module_version": "1.5.0",
            "_model_name": "HTMLModel",
            "_view_count": null,
            "_view_module": "@jupyter-widgets/controls",
            "_view_module_version": "1.5.0",
            "_view_name": "HTMLView",
            "description": "",
            "description_tooltip": null,
            "layout": "IPY_MODEL_0821ed2060dc490498c53831ae8d028e",
            "placeholder": "​",
            "style": "IPY_MODEL_c478c2ce1cac49b08fde5c3b380a6446",
            "value": "Downloading pytorch_model.bin: 100%"
          }
        },
        "0b37d049c9394706a7b500ae57b1c5fa": {
          "model_module": "@jupyter-widgets/controls",
          "model_name": "FloatProgressModel",
          "model_module_version": "1.5.0",
          "state": {
            "_dom_classes": [],
            "_model_module": "@jupyter-widgets/controls",
            "_model_module_version": "1.5.0",
            "_model_name": "FloatProgressModel",
            "_view_count": null,
            "_view_module": "@jupyter-widgets/controls",
            "_view_module_version": "1.5.0",
            "_view_name": "ProgressView",
            "bar_style": "success",
            "description": "",
            "description_tooltip": null,
            "layout": "IPY_MODEL_d006f7b4a76441f38104757175009a99",
            "max": 420921295,
            "min": 0,
            "orientation": "horizontal",
            "style": "IPY_MODEL_c0bfc260c2e9471a90f237a9ecbaf474",
            "value": 420921295
          }
        },
        "33b21ea39c4447a4b584c40510ff9eb7": {
          "model_module": "@jupyter-widgets/controls",
          "model_name": "HTMLModel",
          "model_module_version": "1.5.0",
          "state": {
            "_dom_classes": [],
            "_model_module": "@jupyter-widgets/controls",
            "_model_module_version": "1.5.0",
            "_model_name": "HTMLModel",
            "_view_count": null,
            "_view_module": "@jupyter-widgets/controls",
            "_view_module_version": "1.5.0",
            "_view_name": "HTMLView",
            "description": "",
            "description_tooltip": null,
            "layout": "IPY_MODEL_1e2bbb43afa646898056c1d17e54fe45",
            "placeholder": "​",
            "style": "IPY_MODEL_b0cdf7703e7547f9abce844a36679ff7",
            "value": " 421M/421M [00:04&lt;00:00, 102MB/s]"
          }
        },
        "20c830fe2c5041718628393e4afdf9fd": {
          "model_module": "@jupyter-widgets/base",
          "model_name": "LayoutModel",
          "model_module_version": "1.2.0",
          "state": {
            "_model_module": "@jupyter-widgets/base",
            "_model_module_version": "1.2.0",
            "_model_name": "LayoutModel",
            "_view_count": null,
            "_view_module": "@jupyter-widgets/base",
            "_view_module_version": "1.2.0",
            "_view_name": "LayoutView",
            "align_content": null,
            "align_items": null,
            "align_self": null,
            "border": null,
            "bottom": null,
            "display": null,
            "flex": null,
            "flex_flow": null,
            "grid_area": null,
            "grid_auto_columns": null,
            "grid_auto_flow": null,
            "grid_auto_rows": null,
            "grid_column": null,
            "grid_gap": null,
            "grid_row": null,
            "grid_template_areas": null,
            "grid_template_columns": null,
            "grid_template_rows": null,
            "height": null,
            "justify_content": null,
            "justify_items": null,
            "left": null,
            "margin": null,
            "max_height": null,
            "max_width": null,
            "min_height": null,
            "min_width": null,
            "object_fit": null,
            "object_position": null,
            "order": null,
            "overflow": null,
            "overflow_x": null,
            "overflow_y": null,
            "padding": null,
            "right": null,
            "top": null,
            "visibility": null,
            "width": null
          }
        },
        "0821ed2060dc490498c53831ae8d028e": {
          "model_module": "@jupyter-widgets/base",
          "model_name": "LayoutModel",
          "model_module_version": "1.2.0",
          "state": {
            "_model_module": "@jupyter-widgets/base",
            "_model_module_version": "1.2.0",
            "_model_name": "LayoutModel",
            "_view_count": null,
            "_view_module": "@jupyter-widgets/base",
            "_view_module_version": "1.2.0",
            "_view_name": "LayoutView",
            "align_content": null,
            "align_items": null,
            "align_self": null,
            "border": null,
            "bottom": null,
            "display": null,
            "flex": null,
            "flex_flow": null,
            "grid_area": null,
            "grid_auto_columns": null,
            "grid_auto_flow": null,
            "grid_auto_rows": null,
            "grid_column": null,
            "grid_gap": null,
            "grid_row": null,
            "grid_template_areas": null,
            "grid_template_columns": null,
            "grid_template_rows": null,
            "height": null,
            "justify_content": null,
            "justify_items": null,
            "left": null,
            "margin": null,
            "max_height": null,
            "max_width": null,
            "min_height": null,
            "min_width": null,
            "object_fit": null,
            "object_position": null,
            "order": null,
            "overflow": null,
            "overflow_x": null,
            "overflow_y": null,
            "padding": null,
            "right": null,
            "top": null,
            "visibility": null,
            "width": null
          }
        },
        "c478c2ce1cac49b08fde5c3b380a6446": {
          "model_module": "@jupyter-widgets/controls",
          "model_name": "DescriptionStyleModel",
          "model_module_version": "1.5.0",
          "state": {
            "_model_module": "@jupyter-widgets/controls",
            "_model_module_version": "1.5.0",
            "_model_name": "DescriptionStyleModel",
            "_view_count": null,
            "_view_module": "@jupyter-widgets/base",
            "_view_module_version": "1.2.0",
            "_view_name": "StyleView",
            "description_width": ""
          }
        },
        "d006f7b4a76441f38104757175009a99": {
          "model_module": "@jupyter-widgets/base",
          "model_name": "LayoutModel",
          "model_module_version": "1.2.0",
          "state": {
            "_model_module": "@jupyter-widgets/base",
            "_model_module_version": "1.2.0",
            "_model_name": "LayoutModel",
            "_view_count": null,
            "_view_module": "@jupyter-widgets/base",
            "_view_module_version": "1.2.0",
            "_view_name": "LayoutView",
            "align_content": null,
            "align_items": null,
            "align_self": null,
            "border": null,
            "bottom": null,
            "display": null,
            "flex": null,
            "flex_flow": null,
            "grid_area": null,
            "grid_auto_columns": null,
            "grid_auto_flow": null,
            "grid_auto_rows": null,
            "grid_column": null,
            "grid_gap": null,
            "grid_row": null,
            "grid_template_areas": null,
            "grid_template_columns": null,
            "grid_template_rows": null,
            "height": null,
            "justify_content": null,
            "justify_items": null,
            "left": null,
            "margin": null,
            "max_height": null,
            "max_width": null,
            "min_height": null,
            "min_width": null,
            "object_fit": null,
            "object_position": null,
            "order": null,
            "overflow": null,
            "overflow_x": null,
            "overflow_y": null,
            "padding": null,
            "right": null,
            "top": null,
            "visibility": null,
            "width": null
          }
        },
        "c0bfc260c2e9471a90f237a9ecbaf474": {
          "model_module": "@jupyter-widgets/controls",
          "model_name": "ProgressStyleModel",
          "model_module_version": "1.5.0",
          "state": {
            "_model_module": "@jupyter-widgets/controls",
            "_model_module_version": "1.5.0",
            "_model_name": "ProgressStyleModel",
            "_view_count": null,
            "_view_module": "@jupyter-widgets/base",
            "_view_module_version": "1.2.0",
            "_view_name": "StyleView",
            "bar_color": null,
            "description_width": ""
          }
        },
        "1e2bbb43afa646898056c1d17e54fe45": {
          "model_module": "@jupyter-widgets/base",
          "model_name": "LayoutModel",
          "model_module_version": "1.2.0",
          "state": {
            "_model_module": "@jupyter-widgets/base",
            "_model_module_version": "1.2.0",
            "_model_name": "LayoutModel",
            "_view_count": null,
            "_view_module": "@jupyter-widgets/base",
            "_view_module_version": "1.2.0",
            "_view_name": "LayoutView",
            "align_content": null,
            "align_items": null,
            "align_self": null,
            "border": null,
            "bottom": null,
            "display": null,
            "flex": null,
            "flex_flow": null,
            "grid_area": null,
            "grid_auto_columns": null,
            "grid_auto_flow": null,
            "grid_auto_rows": null,
            "grid_column": null,
            "grid_gap": null,
            "grid_row": null,
            "grid_template_areas": null,
            "grid_template_columns": null,
            "grid_template_rows": null,
            "height": null,
            "justify_content": null,
            "justify_items": null,
            "left": null,
            "margin": null,
            "max_height": null,
            "max_width": null,
            "min_height": null,
            "min_width": null,
            "object_fit": null,
            "object_position": null,
            "order": null,
            "overflow": null,
            "overflow_x": null,
            "overflow_y": null,
            "padding": null,
            "right": null,
            "top": null,
            "visibility": null,
            "width": null
          }
        },
        "b0cdf7703e7547f9abce844a36679ff7": {
          "model_module": "@jupyter-widgets/controls",
          "model_name": "DescriptionStyleModel",
          "model_module_version": "1.5.0",
          "state": {
            "_model_module": "@jupyter-widgets/controls",
            "_model_module_version": "1.5.0",
            "_model_name": "DescriptionStyleModel",
            "_view_count": null,
            "_view_module": "@jupyter-widgets/base",
            "_view_module_version": "1.2.0",
            "_view_name": "StyleView",
            "description_width": ""
          }
        }
      }
    }
  },
  "nbformat": 4,
  "nbformat_minor": 0
}